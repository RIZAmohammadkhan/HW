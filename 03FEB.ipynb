{
 "cells": [
  {
   "cell_type": "markdown",
   "id": "ee87b900-5866-4678-8b8a-bb2b935c2c22",
   "metadata": {},
   "source": [
    "# 03 FEB "
   ]
  },
  {
   "cell_type": "markdown",
   "id": "abe8fd19-7132-4d33-a805-92428ab3fc73",
   "metadata": {},
   "source": [
    "Q1. Which keyword is used to create a function? Create a function to return a list of odd numbers in the\n",
    "range of 1 to 25."
   ]
  },
  {
   "cell_type": "code",
   "execution_count": 28,
   "id": "f75a3ba9-6706-4008-941b-cddcb2c05064",
   "metadata": {},
   "outputs": [
    {
     "data": {
      "text/plain": [
       "[1, 3, 5, 7, 9, 11, 13, 15, 17, 19, 21, 23, 25]"
      ]
     },
     "execution_count": 28,
     "metadata": {},
     "output_type": "execute_result"
    }
   ],
   "source": [
    "#ans def kyword is used to create  a function\n",
    "def odd_upto_25():\n",
    "    num = 1\n",
    "    l = list()\n",
    "    while num <= 25:\n",
    "        l.append(num)\n",
    "        num +=2\n",
    "    return l\n",
    "odd_upto_25()"
   ]
  },
  {
   "cell_type": "markdown",
   "id": "a309f9bd-4dd3-493d-9abb-2ff7ceadd541",
   "metadata": {},
   "source": [
    "Q2. Why *args and **kwargs is used in some functions? Create a function each for *args and **kwargs\n",
    "to demonstrate their use."
   ]
  },
  {
   "cell_type": "markdown",
   "id": "dccc862b-0b46-4acf-91fc-2ef86c17d6a1",
   "metadata": {},
   "source": [
    "Ans. *args and **kwargs are used to make functions argumenst dynamic \n",
    "the difference between *args and **kwargs is that keyword is\n",
    "used in **kwargs"
   ]
  },
  {
   "cell_type": "code",
   "execution_count": 30,
   "id": "a6eb8317-7826-45ca-994c-d79e9bdd1ffa",
   "metadata": {},
   "outputs": [],
   "source": [
    "# The function which return every argument given to it in its\n",
    "#specified format\n",
    "def print_args(a,b,*args,**kwargs):\n",
    "    return a,b,args,kwargs"
   ]
  },
  {
   "cell_type": "code",
   "execution_count": 31,
   "id": "66c50ebe-fbdc-4bac-8897-575dd543cb4b",
   "metadata": {},
   "outputs": [
    {
     "data": {
      "text/plain": [
       "(1, 2, ('oop', 9, 0), {'key': 'lock', 'door': 'bell'})"
      ]
     },
     "execution_count": 31,
     "metadata": {},
     "output_type": "execute_result"
    }
   ],
   "source": [
    "print_args(1,2,'oop',9,0,key='lock',door='bell')"
   ]
  },
  {
   "cell_type": "markdown",
   "id": "7af2b7de-3039-4cec-824e-8529ab01222f",
   "metadata": {},
   "source": [
    "Q3. What is an iterator in python? Name the method used to initialise the iterator object and the method\n",
    "used for iteration. Use these methods to print the first five elements of the given list [2, 4, 6, 8, 10, 12, 14,\n",
    "16, 18, 20]."
   ]
  },
  {
   "cell_type": "code",
   "execution_count": 38,
   "id": "c36a106e-2266-4944-b5fa-cf0047d6a1c4",
   "metadata": {},
   "outputs": [
    {
     "name": "stdout",
     "output_type": "stream",
     "text": [
      "2\n",
      "4\n",
      "6\n",
      "8\n",
      "10\n"
     ]
    }
   ],
   "source": [
    "# Iterator in python is object which is used to iterate objects\n",
    "\n",
    "# the method used to intialise the iteratie object is iter()\n",
    "# and method used for iteration is next()\n",
    "l =  [2, 4, 6, 8, 10, 12, 14, 16, 18, 20]\n",
    "i = iter(l)\n",
    "print(next(i))\n",
    "print(next(i))\n",
    "print(next(i))\n",
    "print(next(i))\n",
    "print(next(i))"
   ]
  },
  {
   "cell_type": "markdown",
   "id": "e7335128-c91e-44ba-8faf-c4aca92794ff",
   "metadata": {},
   "source": [
    "Q4. What is a generator function in python? Why yield keyword is used? Give an example of a generator\n",
    "function."
   ]
  },
  {
   "cell_type": "code",
   "execution_count": 39,
   "id": "a2571578-489a-4335-b9f4-9792abe80c0d",
   "metadata": {},
   "outputs": [],
   "source": [
    "#ans generator function in python is the function which is used to \n",
    "#generate multiple values\n",
    "#yield keyword is used to send multiple  values to the function\n",
    "def gen_fun(n):\n",
    "    count= 1\n",
    "    while count <= n:\n",
    "        yield count\n",
    "        count +=1\n",
    "    "
   ]
  },
  {
   "cell_type": "code",
   "execution_count": 42,
   "id": "eacd36cd-53df-4094-9711-d9df84a9181a",
   "metadata": {},
   "outputs": [
    {
     "name": "stdout",
     "output_type": "stream",
     "text": [
      "1\n",
      "2\n",
      "3\n",
      "4\n"
     ]
    }
   ],
   "source": [
    "for i in gen_fun(4):\n",
    "    print(i)"
   ]
  },
  {
   "cell_type": "markdown",
   "id": "bd3cad7b-9987-4aa7-a19c-c924c7d86534",
   "metadata": {},
   "source": [
    "Q5. Create a generator function for prime numbers less than 1000. Use the next() method to print the\n",
    "first 20 prime numbers."
   ]
  },
  {
   "cell_type": "code",
   "execution_count": 50,
   "id": "f6433ad1-d1bf-4d90-96cc-17c89b9c2d42",
   "metadata": {},
   "outputs": [
    {
     "name": "stdout",
     "output_type": "stream",
     "text": [
      "2 3 5 7 11 13 17 19 23 29 31 37 41 43 47 53 59 61 67 71 "
     ]
    }
   ],
   "source": [
    "def gen_prime_func2():\n",
    "    prime  = 2\n",
    "    while prime <1000:\n",
    "        count = 0 \n",
    "        for i in range(2,prime+1):\n",
    "            if prime % i == 0:\n",
    "                count += 1\n",
    "        if count == 1:\n",
    "            yield prime\n",
    "        prime +=1\n",
    "c = gen_prime_func2()\n",
    "for i in range(20):\n",
    "    print(next(c),end=' ')"
   ]
  },
  {
   "cell_type": "markdown",
   "id": "662f1bb7-1993-43ae-aaf2-dbc83b0eae56",
   "metadata": {},
   "source": [
    "Q6. Write a python program to print the first 10 Fibonacci numbers using a while loop."
   ]
  },
  {
   "cell_type": "code",
   "execution_count": 55,
   "id": "d40c30dc-7199-4215-a07e-0aedee54f743",
   "metadata": {},
   "outputs": [
    {
     "name": "stdout",
     "output_type": "stream",
     "text": [
      "0 1 1 2 3 5 8 13 21 34 "
     ]
    }
   ],
   "source": [
    "count = 1\n",
    "a = 0\n",
    "b = 1\n",
    "while count <= 10:\n",
    "    print(a,end=' ')\n",
    "    c = a+ b\n",
    "    a = b\n",
    "    b = c\n",
    "    count +=1"
   ]
  },
  {
   "cell_type": "markdown",
   "id": "5df684c6-a0a5-4882-871c-f9fa90b9dadc",
   "metadata": {},
   "source": [
    "Q7. Write a List Comprehension to iterate through the given string: ‘pwskills’.\n",
    "Expected output: ['p', 'w', 's', 'k', 'i', 'l', 'l', 's']"
   ]
  },
  {
   "cell_type": "code",
   "execution_count": 56,
   "id": "5ff3adb6-0fb4-4a05-8d3a-01f77881cc8b",
   "metadata": {},
   "outputs": [
    {
     "data": {
      "text/plain": [
       "['p', 'w', 's', 'k', 'i', 'l', 'l', 's']"
      ]
     },
     "execution_count": 56,
     "metadata": {},
     "output_type": "execute_result"
    }
   ],
   "source": [
    "[i for i in 'pwskills']"
   ]
  },
  {
   "cell_type": "markdown",
   "id": "ad81f1d4-d4ea-4421-b901-03061c8b1fea",
   "metadata": {},
   "source": [
    "Q8. Write a python program to check whether a given number is Palindrome or not using a while loop."
   ]
  },
  {
   "cell_type": "code",
   "execution_count": 67,
   "id": "455b11d5-2882-484b-b11b-93fb835ea5b5",
   "metadata": {},
   "outputs": [
    {
     "name": "stdin",
     "output_type": "stream",
     "text": [
      "enter the number ?  121\n"
     ]
    },
    {
     "name": "stdout",
     "output_type": "stream",
     "text": [
      "A Palindome\n"
     ]
    }
   ],
   "source": [
    "num  = int(input(\"enter the number ? \"))\n",
    "i = num\n",
    "created = 0\n",
    "while i > 0:\n",
    "    created =created*10 + i % 10\n",
    "    i = i // 10\n",
    "if created == num:\n",
    "    print('A Palindome')\n",
    "else:\n",
    "    print('Not palindome')\n"
   ]
  },
  {
   "cell_type": "markdown",
   "id": "b9a937ea-4757-4bf6-9aba-f0f32d515ac8",
   "metadata": {},
   "source": [
    "Q9. Write a code to print odd numbers from 1 to 100 using list comprehension.\n",
    "Note: Use a list comprehension to create a list from 1 to 100 and use another List comprehension to filter\n",
    "out odd numbers."
   ]
  },
  {
   "cell_type": "code",
   "execution_count": 69,
   "id": "f092f3aa-59dc-4963-93ba-de8c9f918574",
   "metadata": {},
   "outputs": [
    {
     "name": "stdout",
     "output_type": "stream",
     "text": [
      "[1, 3, 5, 7, 9, 11, 13, 15, 17, 19, 21, 23, 25, 27, 29, 31, 33, 35, 37, 39, 41, 43, 45, 47, 49, 51, 53, 55, 57, 59, 61, 63, 65, 67, 69, 71, 73, 75, 77, 79, 81, 83, 85, 87, 89, 91, 93, 95, 97, 99]\n"
     ]
    }
   ],
   "source": [
    "a = [i for i in range(1,101)]\n",
    "b = [i for i in a if i%2 != 0]\n",
    "print(b)"
   ]
  },
  {
   "cell_type": "markdown",
   "id": "f50e454b-57af-4ec1-9b9f-87b053a2de41",
   "metadata": {},
   "source": [
    "by riza mohammad khan"
   ]
  },
  {
   "cell_type": "code",
   "execution_count": null,
   "id": "1632b34c-a53e-4267-91d7-a9563a83968d",
   "metadata": {},
   "outputs": [],
   "source": []
  }
 ],
 "metadata": {
  "kernelspec": {
   "display_name": "Python 3 (ipykernel)",
   "language": "python",
   "name": "python3"
  },
  "language_info": {
   "codemirror_mode": {
    "name": "ipython",
    "version": 3
   },
   "file_extension": ".py",
   "mimetype": "text/x-python",
   "name": "python",
   "nbconvert_exporter": "python",
   "pygments_lexer": "ipython3",
   "version": "3.10.8"
  }
 },
 "nbformat": 4,
 "nbformat_minor": 5
}
