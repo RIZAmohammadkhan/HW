{
 "cells": [
  {
   "cell_type": "markdown",
   "id": "66dee67b-0cb9-4386-b378-61cbbd8cab7d",
   "metadata": {},
   "source": [
    "# 04FEB"
   ]
  },
  {
   "cell_type": "markdown",
   "id": "a156a721-4a86-4b66-8e1f-b7b783247ffa",
   "metadata": {},
   "source": [
    "Q1. Create a python program to sort the given list of tuples based on integer value using a\n",
    "lambda function.\n",
    "[('Sachin Tendulkar', 34357), ('Ricky Ponting', 27483), ('Jack Kallis', 25534), ('Virat Kohli', 24936)]"
   ]
  },
  {
   "cell_type": "code",
   "execution_count": 3,
   "id": "0373676a-08b1-46e9-b8ec-2ee764690e88",
   "metadata": {},
   "outputs": [
    {
     "data": {
      "text/plain": [
       "[('Virat Kohli', 24936),\n",
       " ('Jack Kallis', 25534),\n",
       " ('Ricky Ponting', 27483),\n",
       " ('Sachin Tendulkar', 34357)]"
      ]
     },
     "execution_count": 3,
     "metadata": {},
     "output_type": "execute_result"
    }
   ],
   "source": [
    "o =  [('Sachin Tendulkar', 34357),('Ricky Ponting', 27483),\n",
    "      ('Jack Kallis', 25534), ('Virat Kohli', 24936)]\n",
    "o.sort(key=lambda x: x[1])\n",
    "o"
   ]
  },
  {
   "cell_type": "markdown",
   "id": "f5b3883a-9a36-4d4c-8bc2-599806ccba1f",
   "metadata": {},
   "source": [
    "Q2. Write a Python Program to find the squares of all the numbers in the given list of integers using\n",
    "lambda and map functions.\n",
    "[1, 2, 3, 4, 5, 6, 7, 8, 9, 10]"
   ]
  },
  {
   "cell_type": "code",
   "execution_count": 50,
   "id": "d4a8506a-1aca-44c4-bb9d-756b455420b0",
   "metadata": {},
   "outputs": [],
   "source": [
    "l = [1, 2, 3, 4, 5, 6, 7, 8, 9, 10]\n",
    "\n",
    "list(map(lambda x : x**2 , l))"
   ]
  },
  {
   "cell_type": "markdown",
   "id": "51e13c6a-ad5e-431e-a4e2-5f7e9228807c",
   "metadata": {},
   "source": [
    "Q3. Write a python program to convert the given list of integers into a tuple of strings. Use map and\n",
    "lambda functions\n",
    "Given String: [1, 2, 3, 4, 5, 6, 7, 8, 9, 10]\n",
    "Expected output: ('1', '2', '3', '4', '5', '6', '7', '8', '9', '10')"
   ]
  },
  {
   "cell_type": "code",
   "execution_count": 52,
   "id": "7a86b6a0-0d64-4c34-9226-a05590080b26",
   "metadata": {},
   "outputs": [
    {
     "data": {
      "text/plain": [
       "('1', '2', '3', '4', '5', '6', '7', '8', '9', '10')"
      ]
     },
     "execution_count": 52,
     "metadata": {},
     "output_type": "execute_result"
    }
   ],
   "source": [
    "g_string =  [1, 2, 3, 4, 5, 6, 7, 8, 9, 10]\n",
    "tuple(map(lambda x: str(x),l))"
   ]
  },
  {
   "cell_type": "markdown",
   "id": "2f73bf11-df0a-4183-bf69-29e831940123",
   "metadata": {},
   "source": [
    "Q4. Write a python program using reduce function to compute the product of a list containing numbers\n",
    "from 1 to 25."
   ]
  },
  {
   "cell_type": "code",
   "execution_count": 54,
   "id": "fd2e1b96-85ef-46cf-9152-c7e8cacf9833",
   "metadata": {},
   "outputs": [
    {
     "data": {
      "text/plain": [
       "620448401733239439360000"
      ]
     },
     "execution_count": 54,
     "metadata": {},
     "output_type": "execute_result"
    }
   ],
   "source": [
    "reduce(lambda x , y: x*y, list(range(1,25)))"
   ]
  },
  {
   "cell_type": "markdown",
   "id": "df36e19b-9b65-40d3-b748-7915b48593f2",
   "metadata": {},
   "source": [
    "Q5. Write a python program to filter the numbers in a given list that are divisible by 2 and 3 using the\n",
    "filter function.\n",
    "[2, 3, 6, 9, 27, 60, 90, 120, 55, 46]"
   ]
  },
  {
   "cell_type": "code",
   "execution_count": 56,
   "id": "f6040be5-990f-4174-9ec6-5e8844b1ca93",
   "metadata": {},
   "outputs": [
    {
     "data": {
      "text/plain": [
       "[6]"
      ]
     },
     "execution_count": 56,
     "metadata": {},
     "output_type": "execute_result"
    }
   ],
   "source": [
    "list(filter(lambda x: x % 2 == 0  and x % 3 == 0, l))"
   ]
  },
  {
   "cell_type": "markdown",
   "id": "99a708ac-127e-48bd-9f11-c81feb2deff8",
   "metadata": {},
   "source": [
    "Q6. Write a python program to find palindromes in the given list of strings using lambda and filter\n",
    "function.\n",
    "['python', 'php', 'aba', 'radar', 'level']"
   ]
  },
  {
   "cell_type": "code",
   "execution_count": 61,
   "id": "e4e6b055-b225-4e4c-b84e-ca03c79f2b0f",
   "metadata": {},
   "outputs": [
    {
     "data": {
      "text/plain": [
       "['php', 'aba', 'radar', 'level']"
      ]
     },
     "execution_count": 61,
     "metadata": {},
     "output_type": "execute_result"
    }
   ],
   "source": [
    "k = ['python', 'php', 'aba', 'radar', 'level']\n",
    "list(filter(lambda x : x[::-1] == x , k ))"
   ]
  },
  {
   "cell_type": "markdown",
   "id": "ef1d0a27-7804-4579-9376-fb67321b9075",
   "metadata": {},
   "source": [
    "By Riza mohammad khan"
   ]
  }
 ],
 "metadata": {
  "kernelspec": {
   "display_name": "Python 3 (ipykernel)",
   "language": "python",
   "name": "python3"
  },
  "language_info": {
   "codemirror_mode": {
    "name": "ipython",
    "version": 3
   },
   "file_extension": ".py",
   "mimetype": "text/x-python",
   "name": "python",
   "nbconvert_exporter": "python",
   "pygments_lexer": "ipython3",
   "version": "3.10.8"
  }
 },
 "nbformat": 4,
 "nbformat_minor": 5
}
