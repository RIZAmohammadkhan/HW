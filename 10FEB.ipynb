{
 "cells": [
  {
   "cell_type": "markdown",
   "source": [
    "----\n",
    "# 10FEB\n",
    "----"
   ],
   "metadata": {
    "collapsed": false
   }
  },
  {
   "cell_type": "markdown",
   "source": [
    "Q1. Which function is used to open a file? What are the different modes of opening a file? Explain each mode\n",
    "of file opening."
   ],
   "metadata": {
    "collapsed": false
   }
  },
  {
   "cell_type": "markdown",
   "source": [
    "The open() function is used to open a file.The different modes of opening a file are\n",
    "1. read mode 'r' :used to read a file,shows traceback if file doesn't exsist\n",
    "2. write mode 'w': used to write a file ,creates a new file if file doesn't exsist or truncates the previous file if filee exsist\n",
    "3. append mode 'a':is used to write the file from ending\n",
    "4. read and write mode '+',is used to update values of file\n",
    "5. binary mode 'b', is used to write/read binary info"
   ],
   "metadata": {
    "collapsed": false
   }
  },
  {
   "cell_type": "markdown",
   "source": [
    "Q2. Why close() function is used? Why is it important to close a file?"
   ],
   "metadata": {
    "collapsed": false
   }
  },
  {
   "cell_type": "markdown",
   "source": [
    "close() function as the name suggest is to close a file. Its is important to close a file because anything we update,store or change in file doesn't remain in file unless and until the file is saved closing the file is like to save the changes done in file"
   ],
   "metadata": {
    "collapsed": false
   }
  },
  {
   "cell_type": "markdown",
   "source": [
    "Q3. Write a python program to create a text file. Write ‘I want to become a Data Scientist’ in that file. Then\n",
    "close the file. Open this file and read the content of the file."
   ],
   "metadata": {
    "collapsed": false
   }
  },
  {
   "cell_type": "code",
   "execution_count": 7,
   "outputs": [],
   "source": [
    "fh = open('Data_Scientist.txt','w')\n",
    "fh.write('I want to become a Data Scientist')\n",
    "fh.close()"
   ],
   "metadata": {
    "collapsed": false
   }
  },
  {
   "cell_type": "markdown",
   "source": [
    "Q4. Explain the following with python code: read(), readline() and readlines()."
   ],
   "metadata": {
    "collapsed": false
   }
  },
  {
   "cell_type": "markdown",
   "source": [
    "The following python code:\n",
    "read() is used to read entire file\n",
    "readline() is used to read file by line\n",
    "readlines() is used to read file and return the list of strings of line"
   ],
   "metadata": {
    "collapsed": false
   }
  },
  {
   "cell_type": "markdown",
   "source": [
    "Q5. Explain why with statement is used with open(). What is the advantage of using with statement and\n",
    "open() together?"
   ],
   "metadata": {
    "collapsed": false
   }
  },
  {
   "cell_type": "markdown",
   "source": [
    "'with' statement is used to automatically open and close the file with the help of open() function and indentation\n"
   ],
   "metadata": {
    "collapsed": false
   }
  },
  {
   "cell_type": "markdown",
   "source": [
    "Q6. Explain the write() and writelines() functions. Give a suitable example."
   ],
   "metadata": {
    "collapsed": false
   }
  },
  {
   "cell_type": "markdown",
   "source": [
    "The write() function is used to write in file\n",
    "while writelines() is used to write in file with the help of iterable object"
   ],
   "metadata": {
    "collapsed": false
   }
  },
  {
   "cell_type": "code",
   "execution_count": 19,
   "outputs": [],
   "source": [
    "\n",
    "f = open(\"sample.txt\", \"w\")\n",
    "f.write(\"Hello, World!\")\n",
    "f.close()\n"
   ],
   "metadata": {
    "collapsed": false
   }
  },
  {
   "cell_type": "code",
   "execution_count": 20,
   "outputs": [],
   "source": [
    "f= open(\"sample.txt\", \"w\")\n",
    "lines = [\"Hello, World!\", \"How are you?\"]\n",
    "f.writelines(lines)\n",
    "f.close()\n"
   ],
   "metadata": {
    "collapsed": false
   }
  },
  {
   "cell_type": "code",
   "execution_count": null,
   "outputs": [],
   "source": [],
   "metadata": {
    "collapsed": false,
    "pycharm": {
     "is_executing": true
    }
   }
  }
 ],
 "metadata": {
  "kernelspec": {
   "display_name": "Python 3",
   "language": "python",
   "name": "python3"
  },
  "language_info": {
   "codemirror_mode": {
    "name": "ipython",
    "version": 2
   },
   "file_extension": ".py",
   "mimetype": "text/x-python",
   "name": "python",
   "nbconvert_exporter": "python",
   "pygments_lexer": "ipython2",
   "version": "2.7.6"
  }
 },
 "nbformat": 4,
 "nbformat_minor": 0
}
