{
 "cells": [
  {
   "cell_type": "markdown",
   "id": "a9a9c624-4776-45c5-8f4d-45125a26bf33",
   "metadata": {},
   "source": [
    "# 07FEB"
   ]
  },
  {
   "cell_type": "markdown",
   "id": "32ac678f-f54c-4a49-8425-e62d0da1500d",
   "metadata": {},
   "source": [
    "Q1. Create a function which will take a list as an argument and return the product of all the numbers\n",
    "after creating a flat list.\n",
    "Use the below-given list as an argument for your function.\n",
    "list1 = [1,2,3,4, [44,55,66, True], False, (34,56,78,89,34), {1,2,3,3,2,1}, {1:34, \"key2\": [55, 67, 78, 89], 4: (45,\n",
    "22, 61, 34)}, [56, 'data science'], 'Machine Learning']\n",
    "Note: you must extract numeric keys and values of the dictionary also."
   ]
  },
  {
   "cell_type": "code",
   "execution_count": 132,
   "id": "ade765f7-6ee4-4d56-a54b-42db97915e55",
   "metadata": {},
   "outputs": [],
   "source": [
    "list1 = [1,2,3,4, [44,55,66, True], False, (34,56,78,89,34), {1,2,3,3,2,1}, {1:34, \"key2\": [55, 67, 78, 89], 4: (45,\n",
    "22, 61, 34)}, [56, 'data science'], 'Machine Learning']"
   ]
  },
  {
   "cell_type": "markdown",
   "id": "d6b76e10-3845-4798-8bf3-bfc93be4ab2f",
   "metadata": {},
   "source": [
    "### 1st way"
   ]
  },
  {
   "cell_type": "code",
   "execution_count": 133,
   "id": "b979ead0-9404-43a8-a995-02cebb8c2e4d",
   "metadata": {},
   "outputs": [],
   "source": [
    "\n",
    "def producter(l):\n",
    "    product = 1\n",
    "    for i in l:\n",
    "        if type(i) == int:\n",
    "            product *= i\n",
    "        elif type(i) == list:\n",
    "            product *= producter(i)\n",
    "        elif type(i) == tuple:\n",
    "            product *= producter(i)\n",
    "        elif type(i) == set:\n",
    "            product *= producter(i)\n",
    "        elif type(i) == dict:\n",
    "            for j,k in i.items():\n",
    "                if type(j) == int:\n",
    "                    product *= j \n",
    "                else:\n",
    "                    product *= producter(j)\n",
    "                if type(k) == int:\n",
    "                    product *= k\n",
    "                else:\n",
    "                    product *= producter(k)\n",
    "    return product"
   ]
  },
  {
   "cell_type": "code",
   "execution_count": 134,
   "id": "ab2af6b5-854b-480a-944b-5f70fd980cce",
   "metadata": {},
   "outputs": [
    {
     "data": {
      "text/plain": [
       "4134711838987085478833841242112000"
      ]
     },
     "execution_count": 134,
     "metadata": {},
     "output_type": "execute_result"
    }
   ],
   "source": [
    "producter(list1)"
   ]
  },
  {
   "cell_type": "markdown",
   "id": "9c668886-11ba-4877-9f62-f4f15dac3ae7",
   "metadata": {},
   "source": [
    "### second way creating flat list"
   ]
  },
  {
   "cell_type": "code",
   "execution_count": 124,
   "id": "ae8d491e-9b87-4162-abc2-b5687967465f",
   "metadata": {},
   "outputs": [],
   "source": [
    "def list_producer(l):\n",
    "    lst =[]\n",
    "    for i in l:\n",
    "        if type(i) == int:\n",
    "            lst.append(i)\n",
    "        elif type(i) == list:\n",
    "            for o in list_producer(i):\n",
    "                lst.append(o)\n",
    "        elif type(i) == tuple:\n",
    "            for o in list_producer(i):\n",
    "                lst.append(o)\n",
    "        elif type(i) == set:\n",
    "            for o in list_producer(i):\n",
    "                lst.append(o)\n",
    "        elif type(i) == dict:\n",
    "            for j,k in i.items():\n",
    "                if type(j) == int:\n",
    "                    lst.append(j)\n",
    "                else:\n",
    "                    for o in list_producer(j):\n",
    "                        lst.append(o)\n",
    "                if type(k) == int:\n",
    "                    lst.append(k)\n",
    "                else:\n",
    "                    for o in list_producer(k):\n",
    "                        lst.append(o)\n",
    "    return lst\n",
    "            \n",
    "    "
   ]
  },
  {
   "cell_type": "code",
   "execution_count": 125,
   "id": "3a449cb2-86f5-453f-b86e-8b7d397c8203",
   "metadata": {},
   "outputs": [],
   "source": [
    "def list_producter(l):\n",
    "    p = 1\n",
    "    for i in l:\n",
    "        p *= i\n",
    "    return p"
   ]
  },
  {
   "cell_type": "code",
   "execution_count": 126,
   "id": "f6e8691f-265e-4321-8d11-d08a84ebfd27",
   "metadata": {},
   "outputs": [],
   "source": [
    "def final_function(l):\n",
    "    return list_producter(list_producer(l))"
   ]
  },
  {
   "cell_type": "code",
   "execution_count": 127,
   "id": "fb96ac67-8793-4dc3-8ad7-8c5811e9cb15",
   "metadata": {},
   "outputs": [
    {
     "data": {
      "text/plain": [
       "4134711838987085478833841242112000"
      ]
     },
     "execution_count": 127,
     "metadata": {},
     "output_type": "execute_result"
    }
   ],
   "source": [
    "final_function(list1)"
   ]
  },
  {
   "cell_type": "code",
   "execution_count": 136,
   "id": "ef6d032a-29b6-4e8a-bf90-ed2406e7ef9e",
   "metadata": {},
   "outputs": [],
   "source": [
    "# now q2"
   ]
  },
  {
   "cell_type": "markdown",
   "id": "2be5264a-52b0-4306-a8aa-3aec62ecd486",
   "metadata": {},
   "source": [
    "Q2. Write a python program for encrypting a message sent to you by your friend. The logic of encryption\n",
    "should be such that, for a the output should be z. For b, the output should be y. For c, the output should\n",
    "be x respectively. Also, the whitespace should be replaced with a dollar sign. Keep the punctuation\n",
    "marks unchanged.\n",
    "Input Sentence: I want to become a Data Scientist.\n",
    "Encrypt the above input sentence using the program you just created.\n",
    "Note: Convert the given input sentence into lowercase before encrypting. The final output should be\n",
    "lowercase."
   ]
  },
  {
   "cell_type": "code",
   "execution_count": 142,
   "id": "b7d08be8-7642-46b4-bad1-01db82221a8b",
   "metadata": {},
   "outputs": [],
   "source": [
    "import string"
   ]
  },
  {
   "cell_type": "code",
   "execution_count": 158,
   "id": "a5a68760-fb53-4c8e-9fa1-5b2f49fc4976",
   "metadata": {},
   "outputs": [
    {
     "name": "stdout",
     "output_type": "stream",
     "text": [
      "input sentence is :  i want to become a data scientist\n",
      "length of input sentence  :  33\n",
      "genetated sentence is :  r$dzmg$gl$yvxlnv$z$wzgz$hxrvmgrhg\n",
      "length of generated entence  :   33\n"
     ]
    }
   ],
   "source": [
    "\n",
    "input_sentence = 'I want to become a Data Scientist'.lower()\n",
    "generated_list =[]\n",
    "for word in input_sentence.split():\n",
    "    lett = \"\"\n",
    "    for letter in word:\n",
    "        inp_alpha = list(string.ascii_lowercase)\n",
    "        \n",
    "        index = inp_alpha.index(letter)\n",
    "        lett = lett + inp_alpha[-(index+1)]\n",
    "        \n",
    "    generated_list.append(lett)\n",
    "generated_sentence = \"$\".join(generated_list)\n",
    "print('input sentence is : ',input_sentence)\n",
    "print('length of input sentence  : ',len(input_sentence))\n",
    "print('genetated sentence is : ',generated_sentence)\n",
    "print('length of generated entence  :  ',len(generated_sentence))\n",
    "\n",
    "    \n",
    "    "
   ]
  },
  {
   "cell_type": "markdown",
   "id": "49e34bd1-1954-42be-a645-c4a3465c6cc6",
   "metadata": {},
   "source": [
    "by riza mohammad khan "
   ]
  }
 ],
 "metadata": {
  "kernelspec": {
   "display_name": "Python 3 (ipykernel)",
   "language": "python",
   "name": "python3"
  },
  "language_info": {
   "codemirror_mode": {
    "name": "ipython",
    "version": 3
   },
   "file_extension": ".py",
   "mimetype": "text/x-python",
   "name": "python",
   "nbconvert_exporter": "python",
   "pygments_lexer": "ipython3",
   "version": "3.10.8"
  }
 },
 "nbformat": 4,
 "nbformat_minor": 5
}
