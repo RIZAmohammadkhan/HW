{
 "cells": [
  {
   "cell_type": "markdown",
   "source": [
    "-----\n",
    "# 17FEB\n",
    "-----"
   ],
   "metadata": {
    "collapsed": false
   }
  },
  {
   "cell_type": "markdown",
   "source": [
    "Q1. What is a database? Differentiate between SQL and NoSQL databases."
   ],
   "metadata": {
    "collapsed": false
   }
  },
  {
   "cell_type": "markdown",
   "source": [
    "A database is a collection of data that is stored and managed to allow for efficient retrieval and manipulation. SQL databases are relational and use tables to store data, while NoSQL databases are non-relational and use a variety of data models to store unstructured and semi-structured data. SQL databases are ideal for handling structured data and complex transactions, while NoSQL databases are better suited for handling unstructured and semi-structured data that require quick and agile data access and retrieval."
   ],
   "metadata": {
    "collapsed": false
   }
  },
  {
   "cell_type": "markdown",
   "source": [
    "Q2. What is DDL? Explain why CREATE, DROP, ALTER, and TRUNCATE are used with an example."
   ],
   "metadata": {
    "collapsed": false
   }
  },
  {
   "cell_type": "markdown",
   "source": [
    "DDL stands for Data Definition Language, which is a subset of SQL (Structured Query Language) used to define the structure and organization of a database. DDL statements are used to create, modify, and delete the database objects such as tables, views, indexes, procedures, triggers, and so on\n"
   ],
   "metadata": {
    "collapsed": false
   }
  },
  {
   "cell_type": "code",
   "execution_count": null,
   "outputs": [],
   "source": [
    "CREATE TABLE look (\n",
    "    id INT PRIMARY KEY,\n",
    "name VARCHAR(50),\n",
    "age INT,\n",
    "height DECIMAL(10,2)\n",
    ");"
   ],
   "metadata": {
    "collapsed": false
   }
  },
  {
   "cell_type": "markdown",
   "source": [
    "DROP: The DROP statement is used to remove a database object such as a table, view, index, or trigger"
   ],
   "metadata": {
    "collapsed": false
   }
  },
  {
   "cell_type": "code",
   "execution_count": null,
   "outputs": [],
   "source": [
    "DROP TABLE look;`"
   ],
   "metadata": {
    "collapsed": false
   }
  },
  {
   "cell_type": "markdown",
   "source": [
    "ALTER: The ALTER statement is used to modify the structure of an existing database object such as a table or a view"
   ],
   "metadata": {
    "collapsed": false
   }
  },
  {
   "cell_type": "code",
   "execution_count": null,
   "outputs": [],
   "source": [
    "ALTER TABLE look ADD COLUMN help VARCHAR(50);"
   ],
   "metadata": {
    "collapsed": false
   }
  },
  {
   "cell_type": "markdown",
   "source": [
    "TRUNCATE: The TRUNCATE statement is used to remove all data from a table while keeping the table structure intact."
   ],
   "metadata": {
    "collapsed": false
   }
  },
  {
   "cell_type": "code",
   "execution_count": null,
   "outputs": [],
   "source": [
    "TRUNCATE TABLE look;"
   ],
   "metadata": {
    "collapsed": false
   }
  },
  {
   "cell_type": "markdown",
   "source": [
    "Q3. What is DML? Explain INSERT, UPDATE, and DELETE with an example."
   ],
   "metadata": {
    "collapsed": false
   }
  },
  {
   "cell_type": "markdown",
   "source": [
    "DML stands for Data Manipulation Language, which is a sublanguage of SQL used to manipulate data in relational databases. DML commands are used to insert, update, and delete data in database tables. Here are the explanations of these three commands with examples:\n",
    "\n",
    "INSERT - The INSERT command is used to insert new data into a database table.\n",
    "UPDATE - The UPDATE command is used to modify existing data in a database table.\n",
    "DELETE - The DELETE command is used to remove data from a database table"
   ],
   "metadata": {
    "collapsed": false
   }
  },
  {
   "cell_type": "markdown",
   "source": [
    "Q4. What is DQL? Explain SELECT with an example."
   ],
   "metadata": {
    "collapsed": false
   }
  },
  {
   "cell_type": "markdown",
   "source": [
    "DQL stands for Data Query Language, which is a sublanguage of SQL used to retrieve data from a database. DQL commands are used to query data from database tables"
   ],
   "metadata": {
    "collapsed": false
   }
  },
  {
   "cell_type": "code",
   "execution_count": null,
   "outputs": [],
   "source": [
    "SELECT * FROM students;"
   ],
   "metadata": {
    "collapsed": false
   }
  },
  {
   "cell_type": "markdown",
   "source": [
    "Q5. Explain Primary Key and Foreign Key."
   ],
   "metadata": {
    "collapsed": false
   }
  },
  {
   "cell_type": "markdown",
   "source": [
    "- Primary Key - The primary key is used to uniquely identify each row in a table. It ensures that each row has a unique identifier and can be easily referenced from other tables. It is often created using an auto-incrementing integer column, but it can also be a combination of columns that together form a unique identifier.\n",
    "- Foreign Key - A foreign key is used to link two tables together. It is a column in one table that refers to the primary key of another table. It ensures that the data is consistent across tables and allows us to establish relationships between them."
   ],
   "metadata": {
    "collapsed": false
   }
  },
  {
   "cell_type": "markdown",
   "source": [
    "Q6. Write a python code to connect MySQL to python. Explain the cursor() and execute() method."
   ],
   "metadata": {
    "collapsed": false
   }
  },
  {
   "cell_type": "code",
   "execution_count": null,
   "outputs": [],
   "source": [
    "import mysql.connector\n",
    "dbms = mysql.connector.connect(\n",
    "    host = 'local'\n",
    "    user = 'root'\n",
    "    password = '....'\n",
    ")\n",
    "cursor_obj = dbms.cursor()\n",
    "cursor_obj.execute('SELECT * FROM students')\n",
    "for i in dbms.fetchall():\n",
    "    print(i)\n",
    "dbms.close()\n"
   ],
   "metadata": {
    "collapsed": false
   }
  },
  {
   "cell_type": "markdown",
   "source": [
    "cursor() method is used to create a cursor object\n",
    "execute() method runs on cursor object and runs the sql query given inside."
   ],
   "metadata": {
    "collapsed": false
   }
  },
  {
   "cell_type": "code",
   "execution_count": null,
   "outputs": [],
   "source": [
    "SELECT DISTINCT <TOP_specification> <select_list>\n",
    "FROM <left_table>\n",
    "<join_type> JOIN <right_table>\n",
    "ON <join_condition>\n",
    "WHERE <where_condition>\n",
    "GROUP BY <group_by_list>\n",
    "HAVING <having_condition>\n",
    "ORDER BY <order_by_list>"
   ],
   "metadata": {
    "collapsed": false
   }
  }
 ],
 "metadata": {
  "kernelspec": {
   "display_name": "Python 3",
   "language": "python",
   "name": "python3"
  },
  "language_info": {
   "codemirror_mode": {
    "name": "ipython",
    "version": 2
   },
   "file_extension": ".py",
   "mimetype": "text/x-python",
   "name": "python",
   "nbconvert_exporter": "python",
   "pygments_lexer": "ipython2",
   "version": "2.7.6"
  }
 },
 "nbformat": 4,
 "nbformat_minor": 0
}
