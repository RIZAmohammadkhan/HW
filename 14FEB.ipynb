{
 "cells": [
  {
   "cell_type": "markdown",
   "source": [
    "-------\n",
    "# 14FEB\n",
    "-------\n"
   ],
   "metadata": {
    "collapsed": false
   }
  },
  {
   "cell_type": "markdown",
   "source": [
    "Q1. What is multithreading in python? hy is it used? Name the module used to handle threads in python"
   ],
   "metadata": {
    "collapsed": false
   }
  },
  {
   "cell_type": "markdown",
   "source": [
    "Multithreading in python is a process in which different threads are used simultaneously using 1 core of processors\n",
    "its used to optimise memory and to improve processor efficiency the module used to handle threads in python is 'threading'"
   ],
   "metadata": {
    "collapsed": false
   }
  },
  {
   "cell_type": "markdown",
   "source": [
    "Q2. Why threading module used? Write the use of the following functions\n",
    "active_count()\n",
    "current_thread()\n",
    " enumerate()"
   ],
   "metadata": {
    "collapsed": false
   }
  },
  {
   "cell_type": "markdown",
   "source": [
    "active_count() : displays number of active threads\n",
    "current_thread(): displays current thread active\n",
    "enumerate(): displays active threads"
   ],
   "metadata": {
    "collapsed": false
   }
  },
  {
   "cell_type": "markdown",
   "source": [
    "Q4. Write a python program to create two threads. Thread one must print the list of squares and thread\n",
    "two must print the list of cubes"
   ],
   "metadata": {
    "collapsed": false
   }
  },
  {
   "cell_type": "code",
   "execution_count": 86,
   "outputs": [],
   "source": [
    "import threading\n",
    "def sqr(l):\n",
    "    print(list(map(lambda x : x*x,l)))\n",
    "li = [1,2,3,4,5,6]\n",
    "k = threading.Thread(target=sqr,args=[li])\n",
    "j = threading.Thread(target=sqr,args=[li])"
   ],
   "metadata": {
    "collapsed": false
   }
  },
  {
   "cell_type": "code",
   "execution_count": 87,
   "outputs": [],
   "source": [
    "def cbe(l):\n",
    "    print(list(map(lambda x : x**3,l)))\n",
    "    time.sleep(2)\n",
    "t = threading.Thread(target=cbe,args=[li])"
   ],
   "metadata": {
    "collapsed": false
   }
  },
  {
   "cell_type": "code",
   "execution_count": 88,
   "outputs": [
    {
     "name": "stdout",
     "output_type": "stream",
     "text": [
      "[1, 4, 9, 16, 25, 36]\n"
     ]
    }
   ],
   "source": [
    "k.start()"
   ],
   "metadata": {
    "collapsed": false
   }
  },
  {
   "cell_type": "code",
   "execution_count": 89,
   "outputs": [
    {
     "name": "stdout",
     "output_type": "stream",
     "text": [
      "[1, 8, 27, 64, 125, 216]\n"
     ]
    },
    {
     "data": {
      "text/plain": "True"
     },
     "execution_count": 89,
     "metadata": {},
     "output_type": "execute_result"
    }
   ],
   "source": [
    "t.start()\n",
    "t.is_alive()"
   ],
   "metadata": {
    "collapsed": false
   }
  },
  {
   "cell_type": "code",
   "execution_count": 91,
   "outputs": [],
   "source": [
    "l = threading.Thread(target=sqr,args=[li])"
   ],
   "metadata": {
    "collapsed": false
   }
  },
  {
   "cell_type": "code",
   "execution_count": 92,
   "outputs": [
    {
     "name": "stdout",
     "output_type": "stream",
     "text": [
      "[1, 4, 9, 16, 25, 36]\n"
     ]
    }
   ],
   "source": [
    "l.run()"
   ],
   "metadata": {
    "collapsed": false
   }
  },
  {
   "cell_type": "markdown",
   "source": [],
   "metadata": {
    "collapsed": false
   }
  },
  {
   "cell_type": "markdown",
   "source": [
    "Q3. Explain the following functions\n",
    "run\n",
    "start\n",
    "join\n",
    "is_alive"
   ],
   "metadata": {
    "collapsed": false
   }
  },
  {
   "cell_type": "markdown",
   "source": [
    "start(): Start the thread’s activity.\n",
    "run(): Method representing the thread’s activity.\n",
    "join(): Wait until the thread terminates. This blocks the calling thread until the thread whose join() method is called terminates – either normally or through an unhandled exception – or until the optional timeout occurs.\n",
    "is_alive: return true if the thread is working  or then returns false\n"
   ],
   "metadata": {
    "collapsed": false
   }
  },
  {
   "cell_type": "markdown",
   "source": [
    "Q5. State advantages and disadvantages of multithreading"
   ],
   "metadata": {
    "collapsed": false
   }
  },
  {
   "cell_type": "markdown",
   "source": [
    "Multithreading is a technique used in computer programming that allows multiple threads to run concurrently within a single process. This approach has both advantages and disadvantages, which are outlined below:\n",
    "\n",
    "Advantages of multithreading:\n",
    "\n",
    "Increased performance: Multithreading can lead to improved performance because it allows for parallel processing. This means that different threads can work on different tasks simultaneously, which can result in faster execution times.\n",
    "\n",
    "Efficient use of resources: Multithreading can help to make more efficient use of system resources, as threads can be used to perform different tasks without requiring additional resources.\n",
    "\n",
    "Responsiveness: Multithreading can improve the responsiveness of a system by allowing it to continue to process other tasks while waiting for I/O or other blocking operations to complete.\n",
    "\n",
    "Resource sharing: Multithreading can enable efficient sharing of resources between different parts of an application, as multiple threads can access shared resources without the need for additional synchronization mechanisms.\n",
    "\n",
    "Disadvantages of multithreading:\n",
    "\n",
    "Complexity: Multithreaded programs can be more complex and difficult to write and debug than single-threaded programs. This is because of the additional complexity involved in coordinating multiple threads.\n",
    "\n",
    "Synchronization overhead: Synchronization is required to ensure that multiple threads do not access shared resources simultaneously, which can result in additional overhead and slower performance.\n",
    "\n",
    "Increased memory usage: Multithreaded programs may require additional memory to store thread-specific data, which can result in increased memory usage.\n",
    "\n",
    "Race conditions: Race conditions can occur when multiple threads attempt to access shared resources simultaneously, which can result in unexpected and undesirable behavior.\n",
    "\n",
    "Difficulty in testing: Multithreaded programs can be difficult to test, as it can be challenging to reproduce race conditions and other concurrency-related issues.\n",
    "\n",
    "\n",
    "\n"
   ],
   "metadata": {
    "collapsed": false
   }
  },
  {
   "cell_type": "markdown",
   "source": [
    "Q6. Explain deadlocks and race conditions."
   ],
   "metadata": {
    "collapsed": false
   }
  },
  {
   "cell_type": "markdown",
   "source": [],
   "metadata": {
    "collapsed": false
   }
  },
  {
   "cell_type": "markdown",
   "source": [
    "Deadlocks and race conditions are two common concurrency-related issues that can occur in multithreaded programs.\n",
    "\n",
    "Deadlocks occur when two or more threads are blocked and waiting for each other to release resources. This results in a situation where none of the threads can proceed, and the program is stuck in a state of deadlock. Deadlocks typically occur when multiple threads are trying to access shared resources simultaneously and each thread is waiting for a resource that is held by another thread. Deadlocks can be difficult to debug and resolve, as they typically require careful analysis of the program's control flow and resource usage to identify the root cause of the issue.\n",
    "\n",
    "Race conditions, on the other hand, occur when two or more threads are trying to access and modify the same shared resource simultaneously. This can result in unexpected and undesirable behavior, as the order in which the threads access the resource is non-deterministic and can lead to inconsistent or incorrect results. Race conditions can be particularly challenging to identify and resolve, as they may only occur intermittently and can be difficult to reproduce. To prevent race conditions, it's important to use appropriate synchronization mechanisms such as locks or semaphores to ensure that only one thread can access the shared resource at a time."
   ],
   "metadata": {
    "collapsed": false
   }
  },
  {
   "cell_type": "markdown",
   "source": [
    "Riza mohammad khan"
   ],
   "metadata": {
    "collapsed": false
   }
  },
  {
   "cell_type": "code",
   "execution_count": null,
   "outputs": [],
   "source": [],
   "metadata": {
    "collapsed": false
   }
  }
 ],
 "metadata": {
  "kernelspec": {
   "display_name": "Python 3",
   "language": "python",
   "name": "python3"
  },
  "language_info": {
   "codemirror_mode": {
    "name": "ipython",
    "version": 2
   },
   "file_extension": ".py",
   "mimetype": "text/x-python",
   "name": "python",
   "nbconvert_exporter": "python",
   "pygments_lexer": "ipython2",
   "version": "2.7.6"
  }
 },
 "nbformat": 4,
 "nbformat_minor": 0
}
