{
 "cells": [
  {
   "cell_type": "markdown",
   "id": "830f11e3-8818-4429-af1b-72bbf4b76850",
   "metadata": {},
   "source": [
    "## feb 02 "
   ]
  },
  {
   "cell_type": "markdown",
   "id": "226f8284-bcd5-46ef-990d-fcea46505dd3",
   "metadata": {},
   "source": [
    "#### Q1. Explain with an example each when to use a for loop and a while loop."
   ]
  },
  {
   "cell_type": "code",
   "execution_count": 4,
   "id": "389b5268-41d5-4bba-981d-f4484816f4e7",
   "metadata": {},
   "outputs": [
    {
     "name": "stdout",
     "output_type": "stream",
     "text": [
      "0 1 2 3 4 5 6 7 8 9 10 11 12 13 14 15 16 17 18 "
     ]
    }
   ],
   "source": [
    "# we use for loop when we have to iterate over a list or any specified datatype in python\n",
    "#e.g\n",
    "for i in range(19):\n",
    "    print(i,end=\" \") "
   ]
  },
  {
   "cell_type": "code",
   "execution_count": 5,
   "id": "1d45d2da-ec84-4e9e-9b95-69df6ec96888",
   "metadata": {},
   "outputs": [
    {
     "name": "stdout",
     "output_type": "stream",
     "text": [
      "0 1 2 3 4 5 6 7 8 9 10 11 12 13 14 15 16 17 18 "
     ]
    }
   ],
   "source": [
    "# we use while loop when we have to check for a specific condition while the loop is executing\n",
    "# note: while loop can be infintie while for loop is finite\n",
    "i = 0\n",
    "while i < 19:\n",
    "    print(i,end=\" \")\n",
    "    i += 1 "
   ]
  },
  {
   "cell_type": "markdown",
   "id": "d5beee07-b4fd-45b6-9cb2-39bab97e2893",
   "metadata": {},
   "source": [
    "#### Q2 Write a python program to print the sum and product of the first 10 natural numbers using for\n",
    "#### and while loop."
   ]
  },
  {
   "cell_type": "code",
   "execution_count": 8,
   "id": "06533fd4-1f93-4d41-86d1-0cb4fe614433",
   "metadata": {},
   "outputs": [
    {
     "data": {
      "text/plain": [
       "55"
      ]
     },
     "execution_count": 8,
     "metadata": {},
     "output_type": "execute_result"
    }
   ],
   "source": [
    "# using for loop\n",
    "r_sum = 0\n",
    "for i in range(1,11,1):\n",
    "    r_sum = r_sum + i\n",
    "r_sum"
   ]
  },
  {
   "cell_type": "code",
   "execution_count": 9,
   "id": "be2ac9dc-fbdd-4aaf-97ff-ce81c762c220",
   "metadata": {},
   "outputs": [
    {
     "data": {
      "text/plain": [
       "55"
      ]
     },
     "execution_count": 9,
     "metadata": {},
     "output_type": "execute_result"
    }
   ],
   "source": [
    "# using while loop\n",
    "num = 10\n",
    "w_sum = 0\n",
    "j = 1\n",
    "while j <= num:\n",
    "    w_sum = w_sum + j\n",
    "    j += 1\n",
    "w_sum"
   ]
  },
  {
   "cell_type": "markdown",
   "id": "a4a5c3a5-8de1-44a6-85f7-a1d47153eec9",
   "metadata": {},
   "source": [
    "#### Q3. Create a python program to compute the electricity bill for a household.\n",
    "\n",
    "#### The per-unit charges in rupees are as follows: For the first 100 units, the user will be charged Rs. 4.5 per\n",
    "#### unit, for the next 100 units, the user will be charged Rs. 6 per unit, and for the next 100 units, the user will\n",
    "#### be charged Rs. 10 per unit, After 300 units and above the user will be charged Rs. 20 per unit.\n",
    "#### You are required to take the units of electricity consumed in a month from the user as input.\n",
    "#### Your program must pass this test case: when the unit of electricity consumed by the user in a month is\n",
    "#### 310, the total electricity bill should be 2250."
   ]
  },
  {
   "cell_type": "code",
   "execution_count": 28,
   "id": "7aa9e158-b733-4cb9-ae5f-edb1a05946ee",
   "metadata": {},
   "outputs": [
    {
     "name": "stdin",
     "output_type": "stream",
     "text": [
      "Enter the number of units consumed only in integers 310\n"
     ]
    },
    {
     "name": "stdout",
     "output_type": "stream",
     "text": [
      "2250.0\n"
     ]
    }
   ],
   "source": [
    "units = int(input(\"Enter the number of units consumed only in integers\"))\n",
    "cost = 0\n",
    "if units <= 100:\n",
    "    cost = 100*4.5\n",
    "elif units <= 100+ 100:\n",
    "    cost = 100*4.5 + (units-100)*6\n",
    "elif units <= 100+100+100:\n",
    "    cost = 100*4.5 + 100*6 + (units-200)*10\n",
    "else:\n",
    "    cost = 100 * 4.5 + 100 * 6 + 100*10 + (units-300)* 20\n",
    "print(cost)\n",
    "    "
   ]
  },
  {
   "cell_type": "markdown",
   "id": "7298e96a-ec4d-44c7-bd93-110864d2e7ff",
   "metadata": {},
   "source": [
    "#### Q4. Create a list of numbers from 1 to 100. Use for loop and while loop to calculate the cube of each number and if the cube of that number is divisible by 4 or 5 then append that number in a list and print that list."
   ]
  },
  {
   "cell_type": "code",
   "execution_count": 16,
   "id": "57fa1677-4fa2-463d-858d-389e31d2319f",
   "metadata": {},
   "outputs": [
    {
     "name": "stdout",
     "output_type": "stream",
     "text": [
      "[8, 64, 125, 216, 512, 1000, 1728, 2744, 3375, 4096, 5832, 8000, 10648, 13824, 15625, 17576, 21952, 27000, 32768, 39304, 42875, 46656, 54872, 64000, 74088, 85184, 91125, 97336, 110592, 125000, 140608, 157464, 166375, 175616, 195112, 216000, 238328, 262144, 274625, 287496, 314432, 343000, 373248, 405224, 421875, 438976, 474552, 512000, 551368, 592704, 614125, 636056, 681472, 729000, 778688, 830584, 857375, 884736, 941192, 1000000]\n"
     ]
    }
   ],
   "source": [
    "# using while loop\n",
    "num_list = []\n",
    "j = 1\n",
    "while j <= 100:\n",
    "    cube = j**3\n",
    "    if cube % 4 == 0:\n",
    "        num_list.append(cube)\n",
    "    elif cube % 5 == 0:\n",
    "        num_list.append(cube)\n",
    "    j += 1\n",
    "print(num_list)"
   ]
  },
  {
   "cell_type": "code",
   "execution_count": 17,
   "id": "5146de6b-abc6-46ed-9dda-c4e91809f07f",
   "metadata": {},
   "outputs": [
    {
     "name": "stdout",
     "output_type": "stream",
     "text": [
      "[8, 64, 125, 216, 512, 1000, 1728, 2744, 3375, 4096, 5832, 8000, 10648, 13824, 15625, 17576, 21952, 27000, 32768, 39304, 42875, 46656, 54872, 64000, 74088, 85184, 91125, 97336, 110592, 125000, 140608, 157464, 166375, 175616, 195112, 216000, 238328, 262144, 274625, 287496, 314432, 343000, 373248, 405224, 421875, 438976, 474552, 512000, 551368, 592704, 614125, 636056, 681472, 729000, 778688, 830584, 857375, 884736, 941192, 1000000]\n"
     ]
    }
   ],
   "source": [
    "# using for loop\n",
    "lst2 = []\n",
    "for i in range(1,101,1):\n",
    "    if (i**3) % 4 == 0:\n",
    "        lst2.append(i**3)\n",
    "    elif (i**3) % 5 == 0:\n",
    "        lst2.append(i**3)\n",
    "print(lst2)"
   ]
  },
  {
   "cell_type": "code",
   "execution_count": 29,
   "id": "cbbd2f9e-2810-4fa5-b142-5833174aba69",
   "metadata": {},
   "outputs": [
    {
     "name": "stdout",
     "output_type": "stream",
     "text": [
      "12\n",
      " wnt t bcm  dt scntst\n"
     ]
    }
   ],
   "source": [
    "# program to filter vowels and count them\n",
    "given_string = \"I want to become a data scientist\"\n",
    "vowels = ['a','e','i','o', 'u']\n",
    "fil = list()\n",
    "count = 0\n",
    "for i in given_string:\n",
    "    if i.lower() in vowels:\n",
    "        count += 1\n",
    "    else:\n",
    "        fil.append(i)\n",
    "fil = \"\".join(fil)\n",
    "print(count)\n",
    "print(fil)"
   ]
  },
  {
   "cell_type": "markdown",
   "id": "e99224f8-90c8-4b8a-9ddd-9b31c982b58b",
   "metadata": {},
   "source": [
    "#### by Riza Mohammad Khan\n"
   ]
  },
  {
   "cell_type": "code",
   "execution_count": null,
   "id": "6bf05ea4-effd-4e4d-ba3f-a5dcfae1da3a",
   "metadata": {},
   "outputs": [],
   "source": []
  }
 ],
 "metadata": {
  "kernelspec": {
   "display_name": "Python 3 (ipykernel)",
   "language": "python",
   "name": "python3"
  },
  "language_info": {
   "codemirror_mode": {
    "name": "ipython",
    "version": 3
   },
   "file_extension": ".py",
   "mimetype": "text/x-python",
   "name": "python",
   "nbconvert_exporter": "python",
   "pygments_lexer": "ipython3",
   "version": "3.10.8"
  }
 },
 "nbformat": 4,
 "nbformat_minor": 5
}
