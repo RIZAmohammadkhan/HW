{
 "cells": [
  {
   "cell_type": "markdown",
   "source": [
    "----\n",
    "# 18FEB\n",
    "----"
   ],
   "metadata": {
    "collapsed": false
   }
  },
  {
   "cell_type": "markdown",
   "source": [
    "Q1. What is an API? Give an example, where an API is used in real life."
   ],
   "metadata": {
    "collapsed": false
   }
  },
  {
   "cell_type": "markdown",
   "source": [
    "An API, or Application Programming Interface, is a set of rules and protocols that allows different software applications to communicate with each other. APIs enable developers to access and use the functionality of an existing system without having to build it from scratch. APIs are used in a variety of applications, including mobile apps, web applications, and internet-connected devices. An example of an API being used in real life is when you use a ridesharing app to request a ride from a service like Uber or Lyft. The app communicates with the service's servers using the API, allowing you to book, track, and pay for the ride all within the app."
   ],
   "metadata": {
    "collapsed": false
   }
  },
  {
   "cell_type": "markdown",
   "source": [
    "\n",
    "Q2. Give advantages and disadvantages of using API."
   ],
   "metadata": {
    "collapsed": false
   }
  },
  {
   "cell_type": "markdown",
   "source": [
    "Advantages:\n",
    "\n",
    "Easy integration: APIs allow applications to integrate with each other easily, which saves time and money on development and testing.\n",
    "Reusability: APIs can be reused in different projects or products, which saves time and effort in coding.\n",
    "Scalability: APIs allow scaling of applications and services, which means that they can handle increasing traffic and requests.\n",
    "Better user experience: APIs enable a better user experience by providing faster and more efficient data exchange between applications.\n",
    "Innovation: APIs can enable innovation by allowing developers to build new products and services that leverage the data and functionality provided by the API.\n",
    "Disadvantages:\n",
    "\n",
    "Security risks: APIs can be a security risk if they are not properly secured. APIs can be vulnerable to attacks such as SQL injection or DDoS attacks.\n",
    "Dependence: APIs can create a dependency on third-party services, which can be a risk if the service is no longer available or if there are changes to the API that break existing integrations.\n",
    "Complexity: APIs can be complex to implement and use, especially if the documentation is unclear or the API requires specific programming knowledge.\n",
    "Cost: Some APIs can be expensive to use, especially if they require a subscription or usage-based billing.\n",
    "Lack of control: When using an API, the developer has less control over the underlying code and functionality, which can limit customization and the ability to troubleshoot issues."
   ],
   "metadata": {
    "collapsed": false
   }
  },
  {
   "cell_type": "markdown",
   "source": [
    "Q3. What is a Web API? Differentiate between API and Web API."
   ],
   "metadata": {
    "collapsed": false
   }
  },
  {
   "cell_type": "markdown",
   "source": [
    "The API which uses web(http) protocol is known as web api. web api is basically subbset of api\n",
    "Communication protocol: Web API communicates over the internet using web protocols such as HTTP, while API can use different communication protocols such as SOAP or REST.\n",
    "\n",
    "Usage: API can be used for a wide variety of software applications, while Web API is typically used for web-based applications and services.\n",
    "\n",
    "Data transfer format: Web API typically uses JSON or XML for data transfer, while APIs can use different data formats such as binary, text or even custom formats.\n",
    "\n",
    "Access: Web APIs are typically accessed using a URL, while APIs may be accessed using different methods such as SDKs, command-line tools, and libraries.\n",
    "\n",
    "Standardization: Web APIs typically follow standardized protocols and specifications, such as REST, while APIs may not be standardized or may use custom specifications."
   ],
   "metadata": {
    "collapsed": false
   }
  },
  {
   "cell_type": "markdown",
   "source": [
    "Q4. Explain REST and SOAP Architecture. Mention shortcomings of SOAP."
   ],
   "metadata": {
    "collapsed": false
   }
  },
  {
   "cell_type": "markdown",
   "source": [
    "REST Architecture:\n",
    "REST is a web service architecture that uses the HTTP protocol to transfer data between different applications. RESTful services are designed to be stateless, meaning that each request from the client to the server contains all the necessary information to complete the request, without requiring the server to maintain any session state. REST uses common HTTP verbs like GET, POST, PUT and DELETE to perform CRUD (Create, Read, Update, Delete) operations on resources.\n",
    "\n",
    "SOAP Architecture:\n",
    "SOAP is another web service architecture that uses XML for data exchange. SOAP is a messaging protocol that uses a set of rules to format messages that are sent and received. SOAP-based services are designed to be stateful, meaning that each message from the client to the server is part of a larger session, and the server maintains session state throughout the session. SOAP uses WSDL (Web Services Description Language) to define the structure of the message and the operations that can be performed.\n",
    "\n",
    " REST and SOAP are two popular web service architectures used for exchanging data between different software applications. REST uses HTTP and is stateless, while SOAP uses XML and is stateful. SOAP has some shortcomings, including its complexity, performance, limited browser support, and poor caching support."
   ],
   "metadata": {
    "collapsed": false
   }
  },
  {
   "cell_type": "markdown",
   "source": [
    "Q5. Differentiate between REST and SOAP."
   ],
   "metadata": {
    "collapsed": false
   }
  },
  {
   "cell_type": "markdown",
   "source": [
    "REST and SOAP are two popular web service architectures used for exchanging data between different software applications. REST uses HTTP and is stateless, while SOAP uses XML and is stateful. SOAP has some shortcomings, including its complexity, performance, limited browser support, and poor caching support"
   ],
   "metadata": {
    "collapsed": false
   }
  },
  {
   "cell_type": "code",
   "execution_count": null,
   "outputs": [],
   "source": [],
   "metadata": {
    "collapsed": false
   }
  }
 ],
 "metadata": {
  "kernelspec": {
   "display_name": "Python 3",
   "language": "python",
   "name": "python3"
  },
  "language_info": {
   "codemirror_mode": {
    "name": "ipython",
    "version": 2
   },
   "file_extension": ".py",
   "mimetype": "text/x-python",
   "name": "python",
   "nbconvert_exporter": "python",
   "pygments_lexer": "ipython2",
   "version": "2.7.6"
  }
 },
 "nbformat": 4,
 "nbformat_minor": 0
}
