{
 "cells": [
  {
   "cell_type": "markdown",
   "id": "3bf5e9e6",
   "metadata": {},
   "source": [
    "---\n",
    "# 19FEB\n",
    "---"
   ]
  },
  {
   "cell_type": "markdown",
   "id": "6f2208c9",
   "metadata": {},
   "source": [
    "Q1. What is Flask Framework? What are the advantages of Flask Framework?"
   ]
  },
  {
   "cell_type": "markdown",
   "id": "0622c1c0",
   "metadata": {},
   "source": [
    "Flask is a micro web framework in Python that is designed to be lightweight, flexible, and easy to use. It provides a simple and intuitive API that allows developers to quickly and easily build web applications without the overhead and complexity of larger frameworks. Flask is highly extensible and supports a wide range of third-party extensions, making it easy to add functionality to web applications. With a large and active community of developers, Flask is a popular choice for building web applications that require a lightweight and flexible framework."
   ]
  },
  {
   "cell_type": "markdown",
   "id": "bdd378fd",
   "metadata": {},
   "source": [
    "Q2. Create a simple Flask application to display ‘Hello World!!’. Attach the screenshot of the output in\n",
    "Jupyter Notebook."
   ]
  },
  {
   "cell_type": "code",
   "execution_count": null,
   "id": "0ee2de8e",
   "metadata": {},
   "outputs": [],
   "source": [
    "from flask import Flask\n",
    "\n",
    "app = Flask(__name__)\n",
    "\n",
    "@app.route(\"/\")\n",
    "def hello_world():\n",
    "    return \"<h1>Hello, World!</h1>\"\n",
    "\n",
    "if __name__==\"__main__\":\n",
    "    app.run(host=\"0.0.0.0\")"
   ]
  },
  {
   "attachments": {
    "j.png": {
     "image/png": "[encoded data removed]"
    }
   },
   "cell_type": "markdown",
   "id": "2f1ebebf",
   "metadata": {},
   "source": [
    "![j.png](attachment:j.png)"
   ]
  },
  {
   "cell_type": "markdown",
   "id": "d8a44811",
   "metadata": {},
   "source": [
    "Q3. What is App routing in Flask? Why do we use app routes?"
   ]
  },
  {
   "cell_type": "markdown",
   "id": "a55a3c48",
   "metadata": {},
   "source": [
    "In Flask, app routing is the process of mapping a URL to a Python function that generates a response for that URL. App routes are used to define the behavior of a Flask application and determine what will be displayed when a user navigates to a particular URL. With app routing, developers can create dynamic web applications that respond to user input and provide customized content based on the current URL. Overall, app routing is a fundamental concept in Flask that allows developers to create powerful and flexible web applications."
   ]
  },
  {
   "cell_type": "markdown",
   "id": "d57c3965",
   "metadata": {},
   "source": [
    "Q4. Create a “/welcome” route to display the welcome message “Welcome to ABC Corporation” and a “/”\n",
    "route to show the following details:\n",
    "\n",
    "Company Name: ABC Corporation\n",
    "\n",
    "Location: India\n",
    "\n",
    "Contact Detail: 999-999-9999"
   ]
  },
  {
   "cell_type": "code",
   "execution_count": null,
   "id": "d25a8b84",
   "metadata": {},
   "outputs": [],
   "source": [
    "from flask import Flask\n",
    "\n",
    "app = Flask(__name__)\n",
    "\n",
    "@app.route(\"/\")\n",
    "def main():\n",
    "    return '''Company Name: ABC Corporation\n",
    "    \\n Location: India\n",
    "    \\nContact Detail: 999-999-9999'''\n",
    " \n",
    "@app.route('/welcome')\n",
    "def main1():\n",
    "    return \"Welcome to ABC Corporation\" \n",
    "\n",
    "if __name__==\"__main__\":\n",
    "    app.run(host=\"0.0.0.0\")"
   ]
  },
  {
   "attachments": {
    "1.png": {
     "image/png": "[encoded data removed]"
    }
   },
   "cell_type": "markdown",
   "id": "dc5a373d",
   "metadata": {},
   "source": [
    "![1.png](attachment:1.png)"
   ]
  },
  {
   "attachments": {
    "2.png": {
     "image/png": "[encoded data removed]"
    }
   },
   "cell_type": "markdown",
   "id": "85df4f0a",
   "metadata": {},
   "source": [
    "![2.png](attachment:2.png)"
   ]
  },
  {
   "cell_type": "markdown",
   "id": "2ef714f0",
   "metadata": {},
   "source": [
    "Q5. What function is used in Flask for URL Building? Write a Python code to demonstrate the working of the\n",
    "url_for() function."
   ]
  },
  {
   "cell_type": "markdown",
   "id": "52102492",
   "metadata": {},
   "source": [
    "In Flask, the url_for() function is used for URL building. It takes the name of the function and any additional arguments as keyword arguments, and generates a URL for the given function and arguments. This function is useful for creating dynamic URLs in Flask applications and is often used in templates to generate links to other pages or resources. By using url_for(), developers can create URLs that are flexible, easy to maintain, and can be changed without affecting the rest of the application.`"
   ]
  },
  {
   "cell_type": "code",
   "execution_count": null,
   "id": "98e8acc3",
   "metadata": {},
   "outputs": [],
   "source": []
  }
 ],
 "metadata": {
  "kernelspec": {
   "display_name": "Python 3 (ipykernel)",
   "language": "python",
   "name": "python3"
  },
  "language_info": {
   "codemirror_mode": {
    "name": "ipython",
    "version": 3
   },
   "file_extension": ".py",
   "mimetype": "text/x-python",
   "name": "python",
   "nbconvert_exporter": "python",
   "pygments_lexer": "ipython3",
   "version": "3.11.2"
  }
 },
 "nbformat": 4,
 "nbformat_minor": 5
}
