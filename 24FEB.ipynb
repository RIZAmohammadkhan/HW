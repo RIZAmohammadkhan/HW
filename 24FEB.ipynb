{
 "cells": [
  {
   "cell_type": "markdown",
   "source": [
    "------\n",
    "# 24FEB\n",
    "------"
   ],
   "metadata": {
    "collapsed": false
   }
  },
  {
   "cell_type": "markdown",
   "source": [
    "Q1. List any five functions of the pandas library with execution."
   ],
   "metadata": {
    "collapsed": false
   }
  },
  {
   "cell_type": "code",
   "execution_count": 1,
   "outputs": [],
   "source": [
    "import datetime\n",
    "\n",
    "import pandas as pd\n",
    "maindict = {'Name':['Riza','Zeeshan','Hashim'],'Field':['CSE','MEDICAL',\"HASHIM\"],'age':[19,19,21]}"
   ],
   "metadata": {
    "collapsed": false
   }
  },
  {
   "cell_type": "code",
   "execution_count": 3,
   "outputs": [
    {
     "data": {
      "text/plain": "      Name    Field  age\n0     Riza      CSE   19\n1  Zeeshan  MEDICAL   19\n2   Hashim   HASHIM   21",
      "text/html": "<div>\n<style scoped>\n    .dataframe tbody tr th:only-of-type {\n        vertical-align: middle;\n    }\n\n    .dataframe tbody tr th {\n        vertical-align: top;\n    }\n\n    .dataframe thead th {\n        text-align: right;\n    }\n</style>\n<table border=\"1\" class=\"dataframe\">\n  <thead>\n    <tr style=\"text-align: right;\">\n      <th></th>\n      <th>Name</th>\n      <th>Field</th>\n      <th>age</th>\n    </tr>\n  </thead>\n  <tbody>\n    <tr>\n      <th>0</th>\n      <td>Riza</td>\n      <td>CSE</td>\n      <td>19</td>\n    </tr>\n    <tr>\n      <th>1</th>\n      <td>Zeeshan</td>\n      <td>MEDICAL</td>\n      <td>19</td>\n    </tr>\n    <tr>\n      <th>2</th>\n      <td>Hashim</td>\n      <td>HASHIM</td>\n      <td>21</td>\n    </tr>\n  </tbody>\n</table>\n</div>"
     },
     "execution_count": 3,
     "metadata": {},
     "output_type": "execute_result"
    }
   ],
   "source": [
    "# .DataFrame() is used to construct dataframe object\n",
    "main_data = pd.DataFrame(maindict)\n",
    "main_data"
   ],
   "metadata": {
    "collapsed": false
   }
  },
  {
   "cell_type": "code",
   "execution_count": 5,
   "outputs": [
    {
     "data": {
      "text/plain": "             age\ncount   3.000000\nmean   19.666667\nstd     1.154701\nmin    19.000000\n25%    19.000000\n50%    19.000000\n75%    20.000000\nmax    21.000000",
      "text/html": "<div>\n<style scoped>\n    .dataframe tbody tr th:only-of-type {\n        vertical-align: middle;\n    }\n\n    .dataframe tbody tr th {\n        vertical-align: top;\n    }\n\n    .dataframe thead th {\n        text-align: right;\n    }\n</style>\n<table border=\"1\" class=\"dataframe\">\n  <thead>\n    <tr style=\"text-align: right;\">\n      <th></th>\n      <th>age</th>\n    </tr>\n  </thead>\n  <tbody>\n    <tr>\n      <th>count</th>\n      <td>3.000000</td>\n    </tr>\n    <tr>\n      <th>mean</th>\n      <td>19.666667</td>\n    </tr>\n    <tr>\n      <th>std</th>\n      <td>1.154701</td>\n    </tr>\n    <tr>\n      <th>min</th>\n      <td>19.000000</td>\n    </tr>\n    <tr>\n      <th>25%</th>\n      <td>19.000000</td>\n    </tr>\n    <tr>\n      <th>50%</th>\n      <td>19.000000</td>\n    </tr>\n    <tr>\n      <th>75%</th>\n      <td>20.000000</td>\n    </tr>\n    <tr>\n      <th>max</th>\n      <td>21.000000</td>\n    </tr>\n  </tbody>\n</table>\n</div>"
     },
     "execution_count": 5,
     "metadata": {},
     "output_type": "execute_result"
    }
   ],
   "source": [
    "# .describe() is used get info about different columns (mainly numerical) if numerical data is not present then string info i displayed\n",
    "main_data.describe()"
   ],
   "metadata": {
    "collapsed": false
   }
  },
  {
   "cell_type": "code",
   "execution_count": 6,
   "outputs": [
    {
     "data": {
      "text/plain": "0    Roll_no\n1          3\n2          2\n3          1\ndtype: object"
     },
     "execution_count": 6,
     "metadata": {},
     "output_type": "execute_result"
    }
   ],
   "source": [
    "# .Series is used to create Series object\n",
    "main_list = ['Roll_no',3,2,1]\n",
    "pd.Series(main_list)"
   ],
   "metadata": {
    "collapsed": false
   }
  },
  {
   "cell_type": "code",
   "execution_count": 7,
   "outputs": [
    {
     "data": {
      "text/plain": "Name     object\nField    object\nage       int64\ndtype: object"
     },
     "execution_count": 7,
     "metadata": {},
     "output_type": "execute_result"
    }
   ],
   "source": [
    "# .dtypes tell us data stored in each column\n",
    "main_data.dtypes"
   ],
   "metadata": {
    "collapsed": false
   }
  },
  {
   "cell_type": "code",
   "execution_count": 9,
   "outputs": [
    {
     "data": {
      "text/plain": "   Basic_Series\n0             1\n1             2\n2             3\n3             4\n4             5\n5             6\n6             7\n7             8\n8             9",
      "text/html": "<div>\n<style scoped>\n    .dataframe tbody tr th:only-of-type {\n        vertical-align: middle;\n    }\n\n    .dataframe tbody tr th {\n        vertical-align: top;\n    }\n\n    .dataframe thead th {\n        text-align: right;\n    }\n</style>\n<table border=\"1\" class=\"dataframe\">\n  <thead>\n    <tr style=\"text-align: right;\">\n      <th></th>\n      <th>Basic_Series</th>\n    </tr>\n  </thead>\n  <tbody>\n    <tr>\n      <th>0</th>\n      <td>1</td>\n    </tr>\n    <tr>\n      <th>1</th>\n      <td>2</td>\n    </tr>\n    <tr>\n      <th>2</th>\n      <td>3</td>\n    </tr>\n    <tr>\n      <th>3</th>\n      <td>4</td>\n    </tr>\n    <tr>\n      <th>4</th>\n      <td>5</td>\n    </tr>\n    <tr>\n      <th>5</th>\n      <td>6</td>\n    </tr>\n    <tr>\n      <th>6</th>\n      <td>7</td>\n    </tr>\n    <tr>\n      <th>7</th>\n      <td>8</td>\n    </tr>\n    <tr>\n      <th>8</th>\n      <td>9</td>\n    </tr>\n  </tbody>\n</table>\n</div>"
     },
     "execution_count": 9,
     "metadata": {},
     "output_type": "execute_result"
    }
   ],
   "source": [
    "# pd.read_csv() is used to read a file\n",
    "with open('HELLO.csv','w') as f:\n",
    "    f.write('Basic_Series\\n')\n",
    "    for i in range(1,10):\n",
    "        f.write(str(i)+'\\n')\n",
    "dh = pd.read_csv(\"HELLO.CSV\")\n",
    "dh"
   ],
   "metadata": {
    "collapsed": false
   }
  },
  {
   "cell_type": "markdown",
   "source": [
    "Q2. Given a Pandas DataFrame df with columns 'A', 'B', and 'C', write a Python function to re-index the\n",
    "DataFrame with a new index that starts from 1 and increments by 2 for each row."
   ],
   "metadata": {
    "collapsed": false
   }
  },
  {
   "cell_type": "code",
   "execution_count": 33,
   "outputs": [
    {
     "data": {
      "text/plain": "       A   B    C\nindex            \n1      1  10  100\n3      2  20  200\n5      3  30  300",
      "text/html": "<div>\n<style scoped>\n    .dataframe tbody tr th:only-of-type {\n        vertical-align: middle;\n    }\n\n    .dataframe tbody tr th {\n        vertical-align: top;\n    }\n\n    .dataframe thead th {\n        text-align: right;\n    }\n</style>\n<table border=\"1\" class=\"dataframe\">\n  <thead>\n    <tr style=\"text-align: right;\">\n      <th></th>\n      <th>A</th>\n      <th>B</th>\n      <th>C</th>\n    </tr>\n    <tr>\n      <th>index</th>\n      <th></th>\n      <th></th>\n      <th></th>\n    </tr>\n  </thead>\n  <tbody>\n    <tr>\n      <th>1</th>\n      <td>1</td>\n      <td>10</td>\n      <td>100</td>\n    </tr>\n    <tr>\n      <th>3</th>\n      <td>2</td>\n      <td>20</td>\n      <td>200</td>\n    </tr>\n    <tr>\n      <th>5</th>\n      <td>3</td>\n      <td>30</td>\n      <td>300</td>\n    </tr>\n  </tbody>\n</table>\n</div>"
     },
     "execution_count": 33,
     "metadata": {},
     "output_type": "execute_result"
    }
   ],
   "source": [
    "df = pd.DataFrame({'A':[1,2,3],'B':[10,20,30],'C':[100,200,300]})\n",
    "def indexer(d):\n",
    "    d['index'] =[i for i in range(1,2*len(d),2)]\n",
    "    return d.set_index('index')\n",
    "indexer(df)"
   ],
   "metadata": {
    "collapsed": false
   }
  },
  {
   "cell_type": "markdown",
   "source": [
    "Q3. You have a Pandas DataFrame df with a column named 'Values'. Write a Python function that\n",
    "iterates over the DataFrame and calculates the sum of the first three values in the 'Values' column. The\n",
    "function should print the sum to the console.\n",
    "For example, if the 'Values' column of df contains the values [10, 20, 30, 40, 50], your function should\n",
    "calculate and print the sum of the first three values, which is 60."
   ],
   "metadata": {
    "collapsed": false
   }
  },
  {
   "cell_type": "code",
   "execution_count": 36,
   "outputs": [
    {
     "data": {
      "text/plain": "60"
     },
     "execution_count": 36,
     "metadata": {},
     "output_type": "execute_result"
    }
   ],
   "source": [
    "df_1 = pd.DataFrame({'Values':[10, 20, 30, 40, 50]})\n",
    "def sum_to_3(d):\n",
    "    return d.loc[0:2,'Values'].sum()\n",
    "sum_to_3(df_1)"
   ],
   "metadata": {
    "collapsed": false
   }
  },
  {
   "cell_type": "markdown",
   "source": [
    "Q4. Given a Pandas DataFrame df with a column 'Text', write a Python function to create a new column\n",
    "'Word_Count' that contains the number of words in each row of the 'Text' column."
   ],
   "metadata": {
    "collapsed": false
   }
  },
  {
   "cell_type": "code",
   "execution_count": 37,
   "outputs": [
    {
     "data": {
      "text/plain": "        Text  Word_Count\n0       This           4\n1         is           2\n2         my           2\n3     second           6\n4  dataframe           9",
      "text/html": "<div>\n<style scoped>\n    .dataframe tbody tr th:only-of-type {\n        vertical-align: middle;\n    }\n\n    .dataframe tbody tr th {\n        vertical-align: top;\n    }\n\n    .dataframe thead th {\n        text-align: right;\n    }\n</style>\n<table border=\"1\" class=\"dataframe\">\n  <thead>\n    <tr style=\"text-align: right;\">\n      <th></th>\n      <th>Text</th>\n      <th>Word_Count</th>\n    </tr>\n  </thead>\n  <tbody>\n    <tr>\n      <th>0</th>\n      <td>This</td>\n      <td>4</td>\n    </tr>\n    <tr>\n      <th>1</th>\n      <td>is</td>\n      <td>2</td>\n    </tr>\n    <tr>\n      <th>2</th>\n      <td>my</td>\n      <td>2</td>\n    </tr>\n    <tr>\n      <th>3</th>\n      <td>second</td>\n      <td>6</td>\n    </tr>\n    <tr>\n      <th>4</th>\n      <td>dataframe</td>\n      <td>9</td>\n    </tr>\n  </tbody>\n</table>\n</div>"
     },
     "execution_count": 37,
     "metadata": {},
     "output_type": "execute_result"
    }
   ],
   "source": [
    "df_2 = pd.DataFrame({'Text':['This','is','my','second','dataframe']})\n",
    "def count(d):\n",
    "    d['Word_Count']=d['Text'].map(lambda x : len(x))\n",
    "    return d\n",
    "count(df_2)"
   ],
   "metadata": {
    "collapsed": false
   }
  },
  {
   "cell_type": "markdown",
   "source": [
    "Q5. How are DataFrame.size() and DataFrame.shape() different?"
   ],
   "metadata": {
    "collapsed": false
   }
  },
  {
   "cell_type": "markdown",
   "source": [
    "DataFrame.size returns the integer and total number of elements\n",
    "While\n",
    "DataFrame.shape() returns the tuple containing number of elements at different"
   ],
   "metadata": {
    "collapsed": false
   }
  },
  {
   "cell_type": "markdown",
   "source": [
    "Q6. Which function of pandas do we use to read an excel file?"
   ],
   "metadata": {
    "collapsed": false
   }
  },
  {
   "cell_type": "markdown",
   "source": [
    "pd.read_excel() is used to read an excel file"
   ],
   "metadata": {
    "collapsed": false
   }
  },
  {
   "cell_type": "markdown",
   "source": [
    "Q7. You have a Pandas DataFrame df that contains a column named 'Email' that contains email\n",
    "addresses in the format 'username@domain.com'. Write a Python function that creates a new column\n",
    "'Username' in df that contains only the username part of each email address.\n",
    "The username is the part of the email address that appears before the '@' symbol. For example, if the\n",
    "    email address is 'john.doe@example.com', the 'Username' column should contain 'john.doe'. Your\n",
    "function should extract the username from each email address and store it in the new 'Username'\n",
    "column."
   ],
   "metadata": {
    "collapsed": false
   }
  },
  {
   "cell_type": "code",
   "execution_count": 46,
   "outputs": [
    {
     "data": {
      "text/plain": "                Email  Username\n0       ABC@gmail.com       ABC\n1       cde@gmail.com       cde\n2  john.doe@gmail.com  john.doe",
      "text/html": "<div>\n<style scoped>\n    .dataframe tbody tr th:only-of-type {\n        vertical-align: middle;\n    }\n\n    .dataframe tbody tr th {\n        vertical-align: top;\n    }\n\n    .dataframe thead th {\n        text-align: right;\n    }\n</style>\n<table border=\"1\" class=\"dataframe\">\n  <thead>\n    <tr style=\"text-align: right;\">\n      <th></th>\n      <th>Email</th>\n      <th>Username</th>\n    </tr>\n  </thead>\n  <tbody>\n    <tr>\n      <th>0</th>\n      <td>ABC@gmail.com</td>\n      <td>ABC</td>\n    </tr>\n    <tr>\n      <th>1</th>\n      <td>cde@gmail.com</td>\n      <td>cde</td>\n    </tr>\n    <tr>\n      <th>2</th>\n      <td>john.doe@gmail.com</td>\n      <td>john.doe</td>\n    </tr>\n  </tbody>\n</table>\n</div>"
     },
     "execution_count": 46,
     "metadata": {},
     "output_type": "execute_result"
    }
   ],
   "source": [
    "db = pd.DataFrame({'Email':['ABC@gmail.com','cde@gmail.com','john.doe@gmail.com']})\n",
    "def user_extract(d):\n",
    "    d[\"Username\"]=d[\"Email\"].map(lambda x: x.split('@')[0])\n",
    "    return d\n",
    "user_extract(db)"
   ],
   "metadata": {
    "collapsed": false
   }
  },
  {
   "cell_type": "markdown",
   "source": [
    "Q8. You have a Pandas DataFrame df with columns 'A', 'B', and 'C'. Write a Python function that selects\n",
    "all rows where the value in column 'A' is greater than 5 and the value in column 'B' is less than 10. The\n",
    "function should return a new DataFrame that contains only the selected rows.\n",
    "For example, if df contains the following values:\n",
    "A B C\n",
    "0 3 5 1\n",
    "1 8 2 7\n",
    "2 6 9 4\n",
    "3 2 3 5\n",
    "4 9 1 2\n",
    "Your function should select the following rows: A B C\n",
    "1 8 2 7\n",
    "4 9 1 2\n",
    "The function should return a new DataFrame that contains only the selected rows."
   ],
   "metadata": {
    "collapsed": false
   }
  },
  {
   "cell_type": "code",
   "execution_count": 63,
   "outputs": [
    {
     "data": {
      "text/plain": "   A  B  C\n1  8  2  7\n2  6  9  4\n4  9  1  2",
      "text/html": "<div>\n<style scoped>\n    .dataframe tbody tr th:only-of-type {\n        vertical-align: middle;\n    }\n\n    .dataframe tbody tr th {\n        vertical-align: top;\n    }\n\n    .dataframe thead th {\n        text-align: right;\n    }\n</style>\n<table border=\"1\" class=\"dataframe\">\n  <thead>\n    <tr style=\"text-align: right;\">\n      <th></th>\n      <th>A</th>\n      <th>B</th>\n      <th>C</th>\n    </tr>\n  </thead>\n  <tbody>\n    <tr>\n      <th>1</th>\n      <td>8</td>\n      <td>2</td>\n      <td>7</td>\n    </tr>\n    <tr>\n      <th>2</th>\n      <td>6</td>\n      <td>9</td>\n      <td>4</td>\n    </tr>\n    <tr>\n      <th>4</th>\n      <td>9</td>\n      <td>1</td>\n      <td>2</td>\n    </tr>\n  </tbody>\n</table>\n</div>"
     },
     "execution_count": 63,
     "metadata": {},
     "output_type": "execute_result"
    }
   ],
   "source": [
    "df4 = pd.DataFrame({'A':[3,8,6,2,9],\n",
    "                    'B':[5,2,9,3,1],'C':[1,7,4,5,2]})\n",
    "df4[(df4['A']>5) & (df4['B'] < 10)]"
   ],
   "metadata": {
    "collapsed": false
   }
  },
  {
   "cell_type": "markdown",
   "source": [
    "Q9. Given a Pandas DataFrame df with a column 'Values', write a Python function to calculate the mean,\n",
    "median, and standard deviation of the values in the 'Values' column."
   ],
   "metadata": {
    "collapsed": false
   }
  },
  {
   "cell_type": "code",
   "execution_count": 67,
   "outputs": [
    {
     "data": {
      "text/plain": "    mean  median        std\n0  34.25    16.5  57.847959",
      "text/html": "<div>\n<style scoped>\n    .dataframe tbody tr th:only-of-type {\n        vertical-align: middle;\n    }\n\n    .dataframe tbody tr th {\n        vertical-align: top;\n    }\n\n    .dataframe thead th {\n        text-align: right;\n    }\n</style>\n<table border=\"1\" class=\"dataframe\">\n  <thead>\n    <tr style=\"text-align: right;\">\n      <th></th>\n      <th>mean</th>\n      <th>median</th>\n      <th>std</th>\n    </tr>\n  </thead>\n  <tbody>\n    <tr>\n      <th>0</th>\n      <td>34.25</td>\n      <td>16.5</td>\n      <td>57.847959</td>\n    </tr>\n  </tbody>\n</table>\n</div>"
     },
     "execution_count": 67,
     "metadata": {},
     "output_type": "execute_result"
    }
   ],
   "source": [
    "df5 = pd.DataFrame({'values':[10,11,12,23,21,34,31,213,4,45,4,3]})\n",
    "def m_m_s(d):\n",
    "    return pd.DataFrame({'mean':[d['values'].mean()],\n",
    "                         'median':[d['values'].median()],\n",
    "                         'std':d['values'].std()})\n",
    "m_m_s(df5)"
   ],
   "metadata": {
    "collapsed": false
   }
  },
  {
   "cell_type": "markdown",
   "source": [
    "Q10. Given a Pandas DataFrame df with a column 'Sales' and a column 'Date', write a Python function to\n",
    "create a new column 'MovingAverage' that contains the moving average of the sales for the past 7 days\n",
    "for each row in the DataFrame. The moving average should be calculated using a window of size 7 and\n",
    "should include the current day."
   ],
   "metadata": {
    "collapsed": false
   }
  },
  {
   "cell_type": "code",
   "execution_count": 94,
   "outputs": [],
   "source": [
    "# DATA FOR QUESTION NOT PROVIDED"
   ],
   "metadata": {
    "collapsed": false
   }
  },
  {
   "cell_type": "markdown",
   "source": [
    "Q11. You have a Pandas DataFrame df with a column 'Date'. Write a Python function that creates a new\n",
    "column 'Weekday' in the DataFrame. The 'Weekday' column should contain the weekday name (e.g.\n",
    "Monday, Tuesday) corresponding to each date in the 'Date' column.\n",
    "For example, if df contains the following values:\n",
    "Date\n",
    "0 2023-01-01\n",
    "1 2023-01-02\n",
    "2 2023-01-03\n",
    "3 2023-01-04\n",
    "4 2023-01-05\n",
    "Your function should create the following DataFrame:\n",
    "\n",
    "Date Weekday\n",
    "0 2023-01-01 Sunday\n",
    "1 2023-01-02 Monday\n",
    "2 2023-01-03 Tuesday\n",
    "3 2023-01-04 Wednesday\n",
    "4 2023-01-05 Thursday\n",
    "The function should return the modified DataFrame."
   ],
   "metadata": {
    "collapsed": false
   }
  },
  {
   "cell_type": "code",
   "execution_count": 93,
   "outputs": [
    {
     "data": {
      "text/plain": "         Date Day number\n0  2023-01-01   Saturday\n1  2023-01-02     Sunday\n2  2023-01-03     Monday\n3  2023-01-04    Tuesday\n4  2023-01-05  Wednesday",
      "text/html": "<div>\n<style scoped>\n    .dataframe tbody tr th:only-of-type {\n        vertical-align: middle;\n    }\n\n    .dataframe tbody tr th {\n        vertical-align: top;\n    }\n\n    .dataframe thead th {\n        text-align: right;\n    }\n</style>\n<table border=\"1\" class=\"dataframe\">\n  <thead>\n    <tr style=\"text-align: right;\">\n      <th></th>\n      <th>Date</th>\n      <th>Day number</th>\n    </tr>\n  </thead>\n  <tbody>\n    <tr>\n      <th>0</th>\n      <td>2023-01-01</td>\n      <td>Saturday</td>\n    </tr>\n    <tr>\n      <th>1</th>\n      <td>2023-01-02</td>\n      <td>Sunday</td>\n    </tr>\n    <tr>\n      <th>2</th>\n      <td>2023-01-03</td>\n      <td>Monday</td>\n    </tr>\n    <tr>\n      <th>3</th>\n      <td>2023-01-04</td>\n      <td>Tuesday</td>\n    </tr>\n    <tr>\n      <th>4</th>\n      <td>2023-01-05</td>\n      <td>Wednesday</td>\n    </tr>\n  </tbody>\n</table>\n</div>"
     },
     "execution_count": 93,
     "metadata": {},
     "output_type": "execute_result"
    }
   ],
   "source": [
    "db1 = pd.DataFrame({'Date':['2023-01-01'\n",
    "                           ,'2023-01-02'\n",
    "                           ,'2023-01-03'\n",
    "                            ,'2023-01-04'\n",
    "                           ,'2023-01-05']})\n",
    "def date_to_day(db):\n",
    "    import datetime as dt\n",
    "    def dd(date):\n",
    "        c = date.split('-')\n",
    "        return {0:'Sunday',1:'Monday',2:\"Tuesday\",3:'Wednesday',4:'Thursday',5:'Friday',6:'Saturday'}[dt.datetime(int(c[0]),int(c[1]),int(c[2])).weekday()]\n",
    "    db['Day number']=db['Date'].map(dd)\n",
    "    return db\n",
    "date_to_day(db1)"
   ],
   "metadata": {
    "collapsed": false
   }
  },
  {
   "cell_type": "markdown",
   "source": [
    "Q12. Given a Pandas DataFrame df with a column 'Date' that contains timestamps, write a Python\n",
    "function to select all rows where the date is between '2023-01-01' and '2023-01-31'."
   ],
   "metadata": {
    "collapsed": false
   }
  },
  {
   "cell_type": "code",
   "execution_count": 121,
   "outputs": [
    {
     "data": {
      "text/plain": "         Date\n1  2023-01-02\n2  2023-01-03\n3  2023-01-04\n4  2023-01-05\n5  2023-01-06\n6  2023-01-07\n7  2023-01-08\n8  2023-01-09\n9  2023-01-10\n10 2023-01-11\n11 2023-01-12\n12 2023-01-13\n13 2023-01-14\n14 2023-01-15\n15 2023-01-16\n16 2023-01-17\n17 2023-01-18\n18 2023-01-19\n19 2023-01-20\n20 2023-01-21\n21 2023-01-22\n22 2023-01-23\n23 2023-01-24\n24 2023-01-25\n25 2023-01-26\n26 2023-01-27",
      "text/html": "<div>\n<style scoped>\n    .dataframe tbody tr th:only-of-type {\n        vertical-align: middle;\n    }\n\n    .dataframe tbody tr th {\n        vertical-align: top;\n    }\n\n    .dataframe thead th {\n        text-align: right;\n    }\n</style>\n<table border=\"1\" class=\"dataframe\">\n  <thead>\n    <tr style=\"text-align: right;\">\n      <th></th>\n      <th>Date</th>\n    </tr>\n  </thead>\n  <tbody>\n    <tr>\n      <th>1</th>\n      <td>2023-01-02</td>\n    </tr>\n    <tr>\n      <th>2</th>\n      <td>2023-01-03</td>\n    </tr>\n    <tr>\n      <th>3</th>\n      <td>2023-01-04</td>\n    </tr>\n    <tr>\n      <th>4</th>\n      <td>2023-01-05</td>\n    </tr>\n    <tr>\n      <th>5</th>\n      <td>2023-01-06</td>\n    </tr>\n    <tr>\n      <th>6</th>\n      <td>2023-01-07</td>\n    </tr>\n    <tr>\n      <th>7</th>\n      <td>2023-01-08</td>\n    </tr>\n    <tr>\n      <th>8</th>\n      <td>2023-01-09</td>\n    </tr>\n    <tr>\n      <th>9</th>\n      <td>2023-01-10</td>\n    </tr>\n    <tr>\n      <th>10</th>\n      <td>2023-01-11</td>\n    </tr>\n    <tr>\n      <th>11</th>\n      <td>2023-01-12</td>\n    </tr>\n    <tr>\n      <th>12</th>\n      <td>2023-01-13</td>\n    </tr>\n    <tr>\n      <th>13</th>\n      <td>2023-01-14</td>\n    </tr>\n    <tr>\n      <th>14</th>\n      <td>2023-01-15</td>\n    </tr>\n    <tr>\n      <th>15</th>\n      <td>2023-01-16</td>\n    </tr>\n    <tr>\n      <th>16</th>\n      <td>2023-01-17</td>\n    </tr>\n    <tr>\n      <th>17</th>\n      <td>2023-01-18</td>\n    </tr>\n    <tr>\n      <th>18</th>\n      <td>2023-01-19</td>\n    </tr>\n    <tr>\n      <th>19</th>\n      <td>2023-01-20</td>\n    </tr>\n    <tr>\n      <th>20</th>\n      <td>2023-01-21</td>\n    </tr>\n    <tr>\n      <th>21</th>\n      <td>2023-01-22</td>\n    </tr>\n    <tr>\n      <th>22</th>\n      <td>2023-01-23</td>\n    </tr>\n    <tr>\n      <th>23</th>\n      <td>2023-01-24</td>\n    </tr>\n    <tr>\n      <th>24</th>\n      <td>2023-01-25</td>\n    </tr>\n    <tr>\n      <th>25</th>\n      <td>2023-01-26</td>\n    </tr>\n    <tr>\n      <th>26</th>\n      <td>2023-01-27</td>\n    </tr>\n  </tbody>\n</table>\n</div>"
     },
     "execution_count": 121,
     "metadata": {},
     "output_type": "execute_result"
    }
   ],
   "source": [
    "L = [datetime.datetime(2023,j,i) for j in range(1,13) for i in range(1,28)]\n",
    "df = pd.DataFrame({\"Date\":L})\n",
    "def date_sel(i,f,df):\n",
    "    return df[(df['Date']>i) & (df['Date'] < f) ]\n",
    "initial = datetime.datetime(2023,1,1)\n",
    "final = datetime.datetime(2023,1,31)\n",
    "date_sel(initial,final,df)\n"
   ],
   "metadata": {
    "collapsed": false
   }
  },
  {
   "cell_type": "markdown",
   "source": [
    "Q13. To use the basic functions of pandas, what is the first and foremost necessary library that needs to\n",
    "be imported?"
   ],
   "metadata": {
    "collapsed": false
   }
  },
  {
   "cell_type": "markdown",
   "source": [
    "pandas needs to be imported"
   ],
   "metadata": {
    "collapsed": false
   }
  },
  {
   "cell_type": "code",
   "execution_count": null,
   "outputs": [],
   "source": [],
   "metadata": {
    "collapsed": false
   }
  }
 ],
 "metadata": {
  "kernelspec": {
   "display_name": "Python 3",
   "language": "python",
   "name": "python3"
  },
  "language_info": {
   "codemirror_mode": {
    "name": "ipython",
    "version": 2
   },
   "file_extension": ".py",
   "mimetype": "text/x-python",
   "name": "python",
   "nbconvert_exporter": "python",
   "pygments_lexer": "ipython2",
   "version": "2.7.6"
  }
 },
 "nbformat": 4,
 "nbformat_minor": 0
}
