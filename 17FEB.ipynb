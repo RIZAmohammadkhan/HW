{
 "cells": [
  {
   "cell_type": "markdown",
   "source": [
    "-----------\n",
    "# 17FEB\n",
    "-----------"
   ],
   "metadata": {
    "collapsed": false
   }
  },
  {
   "cell_type": "markdown",
   "source": [
    "Q1. What is MongoDB? Explain non-relational databases in short. In which scenarios it is preferred to use\n",
    "MongoDB over SQL databases?"
   ],
   "metadata": {
    "collapsed": false
   }
  },
  {
   "cell_type": "markdown",
   "source": [
    "MongoDB is a NoSQL, document-oriented database that stores data in a flexible, JSON-like format. Non-relational databases like MongoDB are preferred in scenarios that require high scalability, flexibility, and agility, as they allow for rapid development and iteration. MongoDB is well-suited for applications that require unstructured or semi-structured data storage, horizontal scalability, real-time analytics, and high availability, while SQL databases are typically better suited for applications with a fixed schema and strong transactional requirements."
   ],
   "metadata": {
    "collapsed": false
   }
  },
  {
   "cell_type": "markdown",
   "source": [
    "Q2. State and Explain the features of MongoDB."
   ],
   "metadata": {
    "collapsed": false
   }
  },
  {
   "cell_type": "markdown",
   "source": [
    "MongoDB has several features that make it a popular NoSQL database choice. It has a flexible data model, which allows it to store data in a variety of formats, including JSON-like documents, and supports dynamic schemas that can be changed on-the-fly. MongoDB also has built-in horizontal scaling, replication, and failover capabilities, as well as support for distributed ACID transactions. Additionally, MongoDB provides a rich set of query and aggregation capabilities, indexing, and text search, making it well-suited for real-time analytics and data processing. Finally, MongoDB has a large and active developer community, which provides support and contributes to ongoing development and improvement of the database."
   ],
   "metadata": {
    "collapsed": false
   }
  },
  {
   "cell_type": "markdown",
   "source": [
    "Q3. Write a code to connect MongoDB to Python. Also, create a database and a collection in MongoDB."
   ],
   "metadata": {
    "collapsed": false
   }
  },
  {
   "cell_type": "code",
   "execution_count": 34,
   "outputs": [],
   "source": [
    "import pymongo\n",
    "client = pymongo.MongoClient(\"mongodb+srv://rizamohammad313:<password>@cluster1.rxdjp1m.mongodb.net/?retryWrites=true&w=majority\")\n",
    "db = client.test\n",
    "db2 = client['Hello']\n",
    "coll = db2['coll1']"
   ],
   "metadata": {
    "collapsed": false
   }
  },
  {
   "cell_type": "markdown",
   "source": [
    "Q4. Using the database and the collection created in question number 3, write a code to insert one record,\n",
    "and insert many records. Use the find() and find_one() methods to print the inserted record."
   ],
   "metadata": {
    "collapsed": false
   }
  },
  {
   "cell_type": "code",
   "execution_count": 35,
   "outputs": [
    {
     "data": {
      "text/plain": "<pymongo.results.InsertManyResult at 0x2e420f68eb0>"
     },
     "execution_count": 35,
     "metadata": {},
     "output_type": "execute_result"
    }
   ],
   "source": [
    "coll.insert_one({'name':'Ahamad','roll no ': 44})\n",
    "data = [{'name':'Mohammad','roll no ': 47},\n",
    "        {'name':'Abbas','roll no ':48},\n",
    "        {'name':'Ali','roll no ': 49},\n",
    "        {'name':'Hassan','roll no ': 50},\n",
    "        {'name':'khan','roll no ':51},\n",
    "        {'name':'loop','roll no ':52},\n",
    "        {'name':'help}','roll no ':53}]\n",
    "coll.insert_many(data)"
   ],
   "metadata": {
    "collapsed": false
   }
  },
  {
   "cell_type": "code",
   "execution_count": 36,
   "outputs": [
    {
     "name": "stdout",
     "output_type": "stream",
     "text": [
      "{'_id': ObjectId('63f053de192c10702661d347'), 'name': 'Riza mohammad Khan', 'roll no ': 45}\n",
      "{'_id': ObjectId('63f0548c192c10702661d349'), 'name': 'Ahamad', 'roll no ': 44}\n",
      "{'_id': ObjectId('63f0548d192c10702661d34a'), 'name': 'Mohammad', 'roll no ': 47}\n",
      "{'_id': ObjectId('63f0548d192c10702661d34b'), 'name': 'Abbas', 'roll no ': 48}\n",
      "{'_id': ObjectId('63f0548d192c10702661d34c'), 'name': 'Ali', 'roll no ': 49}\n",
      "{'_id': ObjectId('63f0548d192c10702661d34d'), 'name': 'Hassan', 'roll no ': 50}\n",
      "{'_id': ObjectId('63f05685192c10702661d350'), 'name': 'Ahamad', 'roll no ': 44}\n",
      "{'_id': ObjectId('63f05686192c10702661d351'), 'name': 'Mohammad', 'roll no ': 47}\n",
      "{'_id': ObjectId('63f05686192c10702661d352'), 'name': 'Abbas', 'roll no ': 48}\n",
      "{'_id': ObjectId('63f05686192c10702661d353'), 'name': 'Ali', 'roll no ': 49}\n",
      "{'_id': ObjectId('63f05686192c10702661d354'), 'name': 'Hassan', 'roll no ': 50}\n",
      "{'_id': ObjectId('63f05686192c10702661d355'), 'name': 'khan', 'roll no ': 51}\n",
      "{'_id': ObjectId('63f05686192c10702661d356'), 'name': 'loop', 'roll no ': 52}\n",
      "{'_id': ObjectId('63f05686192c10702661d357'), 'name': 'help}', 'roll no ': 53}\n"
     ]
    }
   ],
   "source": [
    "for i in coll.find():\n",
    "    print(i)"
   ],
   "metadata": {
    "collapsed": false
   }
  },
  {
   "cell_type": "code",
   "execution_count": 37,
   "outputs": [
    {
     "data": {
      "text/plain": "{'_id': ObjectId('63f0548d192c10702661d34c'), 'name': 'Ali', 'roll no ': 49}"
     },
     "execution_count": 37,
     "metadata": {},
     "output_type": "execute_result"
    }
   ],
   "source": [
    "coll.find_one({'roll no ':49})"
   ],
   "metadata": {
    "collapsed": false
   }
  },
  {
   "cell_type": "markdown",
   "source": [
    "Q5. Explain how you can use the find() method to query the MongoDB database. Write a simple code to\n",
    "demonstrate this."
   ],
   "metadata": {
    "collapsed": false
   }
  },
  {
   "cell_type": "code",
   "execution_count": 38,
   "outputs": [
    {
     "name": "stdout",
     "output_type": "stream",
     "text": [
      "{'_id': ObjectId('63f053de192c10702661d347'), 'name': 'Riza mohammad Khan', 'roll no ': 45}\n",
      "{'_id': ObjectId('63f0548c192c10702661d349'), 'name': 'Ahamad', 'roll no ': 44}\n",
      "{'_id': ObjectId('63f0548d192c10702661d34a'), 'name': 'Mohammad', 'roll no ': 47}\n",
      "{'_id': ObjectId('63f0548d192c10702661d34b'), 'name': 'Abbas', 'roll no ': 48}\n",
      "{'_id': ObjectId('63f05685192c10702661d350'), 'name': 'Ahamad', 'roll no ': 44}\n",
      "{'_id': ObjectId('63f05686192c10702661d351'), 'name': 'Mohammad', 'roll no ': 47}\n",
      "{'_id': ObjectId('63f05686192c10702661d352'), 'name': 'Abbas', 'roll no ': 48}\n"
     ]
    }
   ],
   "source": [
    "for i in coll.find({'roll no ':{'$lt':49}}):\n",
    "    print(i)"
   ],
   "metadata": {
    "collapsed": false
   }
  },
  {
   "cell_type": "markdown",
   "source": [
    "Q7. Explain why delete_one(), delete_many(), and drop() is used."
   ],
   "metadata": {
    "collapsed": false
   }
  },
  {
   "cell_type": "code",
   "execution_count": 39,
   "outputs": [
    {
     "data": {
      "text/plain": "<pymongo.results.DeleteResult at 0x2e420ebec20>"
     },
     "execution_count": 39,
     "metadata": {},
     "output_type": "execute_result"
    }
   ],
   "source": [
    "# delete one is used to delete one document\n",
    "coll.delete_one({'name':'Riza mohammad khan'})\n",
    "coll.delete_one({'name':'Abbas'})"
   ],
   "metadata": {
    "collapsed": false
   }
  },
  {
   "cell_type": "code",
   "execution_count": 42,
   "outputs": [
    {
     "data": {
      "text/plain": "<pymongo.results.DeleteResult at 0x2e420f5c970>"
     },
     "execution_count": 42,
     "metadata": {},
     "output_type": "execute_result"
    }
   ],
   "source": [
    "#delete many is used to delete more than one document\n",
    "coll.delete_many({'roll no ':{'$gte':50}})\n"
   ],
   "metadata": {
    "collapsed": false
   }
  },
  {
   "cell_type": "code",
   "execution_count": 44,
   "outputs": [],
   "source": [
    "#drop is used to delete entire collection\n",
    "coll.drop()"
   ],
   "metadata": {
    "collapsed": false
   }
  },
  {
   "cell_type": "markdown",
   "source": [
    "Riza mohammad khan"
   ],
   "metadata": {
    "collapsed": false
   }
  },
  {
   "cell_type": "code",
   "execution_count": null,
   "outputs": [],
   "source": [],
   "metadata": {
    "collapsed": false
   }
  }
 ],
 "metadata": {
  "kernelspec": {
   "display_name": "Python 3",
   "language": "python",
   "name": "python3"
  },
  "language_info": {
   "codemirror_mode": {
    "name": "ipython",
    "version": 2
   },
   "file_extension": ".py",
   "mimetype": "text/x-python",
   "name": "python",
   "nbconvert_exporter": "python",
   "pygments_lexer": "ipython2",
   "version": "2.7.6"
  }
 },
 "nbformat": 4,
 "nbformat_minor": 0
}
