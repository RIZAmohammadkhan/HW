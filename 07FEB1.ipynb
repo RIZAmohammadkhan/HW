{
 "cells": [
  {
   "cell_type": "markdown",
   "id": "a118ef9c-0cb7-444e-ba07-81d0f8748c7a",
   "metadata": {},
   "source": [
    "# 07FEB"
   ]
  },
  {
   "cell_type": "markdown",
   "id": "2dfdaef4-e44d-41c3-a7f7-ef1544a782ce",
   "metadata": {},
   "source": [
    "Q1. You are writing code for a company. The requirement of the company is that you create a python\n",
    "function that will check whether the password entered by the user is correct or not. The function should\n",
    "take the password as input and return the string “Valid Password” if the entered password follows the\n",
    "below-given password guidelines else it should return “Invalid Password”.\n",
    "Note: 1. The Password should contain at least two uppercase letters and at least two lowercase letters.\n",
    "2. The Password should contain at least a number and three special characters.\n",
    "3. The length of the password should be 10 characters long."
   ]
  },
  {
   "cell_type": "code",
   "execution_count": 2,
   "id": "89f03b08-3c29-47e8-9313-83f6f6cd6deb",
   "metadata": {},
   "outputs": [
    {
     "name": "stdout",
     "output_type": "stream",
     "text": [
      "FOR PASSWORD FOLLOW THE BELOW GUIDELINES \n",
      "1. The Password should contain at least two uppercase letters and at least two lowercase letters.\n",
      "2. The Password should contain at least a number and three special characters.\n",
      "3. The length of the password should be 10 characters long.\n"
     ]
    }
   ],
   "source": [
    "print('''FOR PASSWORD FOLLOW THE BELOW GUIDELINES \n",
    "1. The Password should contain at least two uppercase letters and at least two lowercase letters.\n",
    "2. The Password should contain at least a number and three special characters.\n",
    "3. The length of the password should be 10 characters long.''')"
   ]
  },
  {
   "cell_type": "code",
   "execution_count": 16,
   "id": "75540c2b-5482-4020-a2b3-f502bffb24f4",
   "metadata": {},
   "outputs": [
    {
     "name": "stdin",
     "output_type": "stream",
     "text": [
      "ENTER THE PASSWORD\n",
      "\t: 12hgHG*&^1\n"
     ]
    },
    {
     "name": "stdout",
     "output_type": "stream",
     "text": [
      "VALID PASSWORD\n"
     ]
    }
   ],
   "source": [
    "password = input('ENTER THE PASSWORD\\n\\t:')\n",
    "count_upper, count_lower, count_num,count_spec = 0,0,0,0\n",
    "import string\n",
    "up = list(string.ascii_uppercase)\n",
    "lo = list(string.ascii_lowercase)\n",
    "sp = list(string.punctuation)\n",
    "digits = list(string.digits)\n",
    "\n",
    "if len(password) == 10:\n",
    "    for i in password:\n",
    "        if i in lo:\n",
    "            count_lower += 1\n",
    "        elif i in up:\n",
    "            count_upper +=1\n",
    "        elif i in sp:\n",
    "            count_spec +=1\n",
    "        elif i in digits:\n",
    "            count_num +=1\n",
    "    if count_lower <2:\n",
    "        print('INVALID PASSWORD')\n",
    "    elif count_upper <2:\n",
    "        print('INVALID PASSWORD')\n",
    "    elif count_num <1:\n",
    "        print('INVALID PASSWORD')\n",
    "    elif count_spec <3:\n",
    "        print('INVALID PASSWORD')\n",
    "    else:\n",
    "        print('VALID PASSWORD')\n",
    "else:\n",
    "    print('INVALID PASSWORD')"
   ]
  },
  {
   "cell_type": "markdown",
   "id": "1a533fc8-1c66-40c1-bfae-f14a8df676ba",
   "metadata": {},
   "source": [
    "Q2. Solve the below-given questions using at least one of the following:\n",
    "1. Lambda function\n",
    "2. Filter function\n",
    "3. map function\n",
    "4. List Comprehension"
   ]
  },
  {
   "cell_type": "markdown",
   "id": "0bc8fe93-90de-430f-9795-d16805808943",
   "metadata": {},
   "source": [
    "- Check if the string starts with a particular letter"
   ]
  },
  {
   "cell_type": "code",
   "execution_count": 23,
   "id": "552d1e12-fb5c-4f04-bb7b-462dfb8b9867",
   "metadata": {},
   "outputs": [
    {
     "name": "stdin",
     "output_type": "stream",
     "text": [
      "Enter a word to be checked: \t ali\n"
     ]
    },
    {
     "name": "stdout",
     "output_type": "stream",
     "text": [
      "starts with A\n"
     ]
    }
   ],
   "source": [
    "#string starting with a\n",
    "word = input('Enter a word to be checked: \\t').lower()\n",
    "c = lambda x : True if x[0] == 'a' else False\n",
    "if c(word) is True:\n",
    "    print('starts with A')"
   ]
  },
  {
   "cell_type": "markdown",
   "id": "ff3b8280-bd09-4c30-b958-ac2b03099e54",
   "metadata": {},
   "source": [
    "- Check if the string is numeric"
   ]
  },
  {
   "cell_type": "code",
   "execution_count": 36,
   "id": "2d1a01b0-0537-4e4d-85cd-65dbf4c65855",
   "metadata": {},
   "outputs": [
    {
     "name": "stdin",
     "output_type": "stream",
     "text": [
      "Enter the string to be checked\t 1234\n"
     ]
    },
    {
     "name": "stdout",
     "output_type": "stream",
     "text": [
      "string is numeric\n"
     ]
    }
   ],
   "source": [
    "string_word = input('Enter the string to be checked\\t')\n",
    "string_list = list(string_word)\n",
    "import string\n",
    "check_list =list(map(lambda x : x in string.digits,string_list))\n",
    "for i in check_list:\n",
    "    if i is False:\n",
    "        print(\"string is non numeric\")\n",
    "        break\n",
    "else:\n",
    "    print(\"string is numeric\")\n"
   ]
  },
  {
   "cell_type": "markdown",
   "id": "0ce6c577-cd21-46af-82d1-9b80a775b65a",
   "metadata": {},
   "source": [
    "- Sort a list of tuples having fruit names and their quantity. [(\"mango\",99),(\"orange\",80), (\"grapes\", 1000)-"
   ]
  },
  {
   "cell_type": "code",
   "execution_count": 52,
   "id": "9e75d22f-14be-444c-88ff-c9dbcf385508",
   "metadata": {},
   "outputs": [],
   "source": [
    "given_list = [(\"mango\",99),(\"orange\",80), (\"grapes\", 1000)]\n",
    "given_dict = dict([(j,i) for i,j in given_list])\n",
    "number = list(given_dict.keys())\n",
    "number.sort()\n",
    "created_list = [(given_dict[i],i) for i in number]"
   ]
  },
  {
   "cell_type": "code",
   "execution_count": 53,
   "id": "b20857b3-63f9-4404-88d4-10ee1d47b404",
   "metadata": {},
   "outputs": [
    {
     "data": {
      "text/plain": [
       "[('orange', 80), ('mango', 99), ('grapes', 1000)]"
      ]
     },
     "execution_count": 53,
     "metadata": {},
     "output_type": "execute_result"
    }
   ],
   "source": [
    "created_list"
   ]
  },
  {
   "cell_type": "markdown",
   "id": "4d7a6512-1f16-4683-bf89-3e5b9c4fb125",
   "metadata": {},
   "source": [
    "- Find the squares of numbers from 1 to 10."
   ]
  },
  {
   "cell_type": "code",
   "execution_count": 54,
   "id": "ccd9eaa6-6e84-4764-b61b-5f020ab51ccf",
   "metadata": {},
   "outputs": [
    {
     "data": {
      "text/plain": [
       "[1, 4, 9, 16, 25, 36, 49, 64, 81, 100]"
      ]
     },
     "execution_count": 54,
     "metadata": {},
     "output_type": "execute_result"
    }
   ],
   "source": [
    "list(map(lambda x: x**2,list(range(1,11))))"
   ]
  },
  {
   "cell_type": "markdown",
   "id": "a4d504d2-3125-43c5-929e-40d06d4653da",
   "metadata": {},
   "source": [
    "- Find the cube root of numbers from 1 to 10."
   ]
  },
  {
   "cell_type": "code",
   "execution_count": 59,
   "id": "95e46393-d687-461d-a5a3-44be627316fb",
   "metadata": {},
   "outputs": [
    {
     "data": {
      "text/plain": [
       "[1.0, 1.26, 1.44, 1.59, 1.71, 1.82, 1.91, 2.0, 2.08, 2.15]"
      ]
     },
     "execution_count": 59,
     "metadata": {},
     "output_type": "execute_result"
    }
   ],
   "source": [
    "list(map(lambda x: round(x**(1/3),2),list(range(1,11))))"
   ]
  },
  {
   "cell_type": "markdown",
   "id": "66fafa62-0a96-418e-a119-3ffa972304f7",
   "metadata": {},
   "source": [
    "-  Check if a given number is even"
   ]
  },
  {
   "cell_type": "code",
   "execution_count": 60,
   "id": "64d0ba67-dde4-465e-bf7f-65ee85996c37",
   "metadata": {},
   "outputs": [],
   "source": [
    "c = lambda x : 'Even' if x %2 ==0 else 'Odd' "
   ]
  },
  {
   "cell_type": "code",
   "execution_count": 62,
   "id": "f10d4169-9d05-4ef6-8cef-95fc47224f76",
   "metadata": {},
   "outputs": [
    {
     "name": "stdout",
     "output_type": "stream",
     "text": [
      "Even\n",
      "Odd\n"
     ]
    }
   ],
   "source": [
    "print(c(2))\n",
    "print(c(3))"
   ]
  },
  {
   "cell_type": "markdown",
   "id": "dd6b7a09-5488-4ca8-8276-2ea1fa9c7329",
   "metadata": {},
   "source": [
    "-  Filter odd numbers from the given list.\n",
    "[1,2,3,4,5,6,7,8,9,10]"
   ]
  },
  {
   "cell_type": "code",
   "execution_count": 63,
   "id": "637366b5-7603-408c-a326-e629ff919480",
   "metadata": {},
   "outputs": [
    {
     "data": {
      "text/plain": [
       "[1, 3, 5, 7, 9]"
      ]
     },
     "execution_count": 63,
     "metadata": {},
     "output_type": "execute_result"
    }
   ],
   "source": [
    "list(filter(lambda x: x%2 != 0,[1,2,3,4,5,6,7,8,9,10] ))"
   ]
  },
  {
   "cell_type": "markdown",
   "id": "2d5b3123-61dc-467a-a372-6363a1cca124",
   "metadata": {},
   "source": [
    "- Sort a list of integers into positive and negative integers lists.\n",
    "[1,2,3,4,5,6,-1,-2,-3,-4,-5,0]"
   ]
  },
  {
   "cell_type": "code",
   "execution_count": 71,
   "id": "dc8e9a6f-9705-4bcd-9784-bfc65d714b95",
   "metadata": {},
   "outputs": [
    {
     "name": "stdout",
     "output_type": "stream",
     "text": [
      "[1, 2, 3, 4, 5, 6]\n",
      "[-1, -2, -3, -4, -5]\n"
     ]
    }
   ],
   "source": [
    "l =[1,2,3,4,5,6,-1,-2,-3,-4,-5,0]\n",
    "positive_l = list(filter(lambda x:x>0,l ))\n",
    "positive_l.sort()\n",
    "negative_l = list(filter(lambda x:x<0,l))\n",
    "print(positive_l)\n",
    "print(negative_l)"
   ]
  },
  {
   "cell_type": "code",
   "execution_count": null,
   "id": "cd662adb-b009-4761-b86a-2e89c3ffa46d",
   "metadata": {},
   "outputs": [],
   "source": []
  }
 ],
 "metadata": {
  "kernelspec": {
   "display_name": "Python 3 (ipykernel)",
   "language": "python",
   "name": "python3"
  },
  "language_info": {
   "codemirror_mode": {
    "name": "ipython",
    "version": 3
   },
   "file_extension": ".py",
   "mimetype": "text/x-python",
   "name": "python",
   "nbconvert_exporter": "python",
   "pygments_lexer": "ipython3",
   "version": "3.10.8"
  }
 },
 "nbformat": 4,
 "nbformat_minor": 5
}
