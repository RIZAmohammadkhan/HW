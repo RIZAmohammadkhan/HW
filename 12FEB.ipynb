{
 "cells": [
  {
   "cell_type": "markdown",
   "source": [
    "# 12FEB"
   ],
   "metadata": {
    "collapsed": false
   }
  },
  {
   "cell_type": "markdown",
   "source": [
    "Q1. What is an Exception in python? Write the difference between Exceptions and syntax errors?"
   ],
   "metadata": {
    "collapsed": false
   }
  },
  {
   "cell_type": "markdown",
   "source": [
    "Exception are th cases when the code failed to run despite beign syntactically correct.The difference between Exception and syntax is the writting mistake is syntax error while mostly logically errors are exceptions"
   ],
   "metadata": {
    "collapsed": false
   }
  },
  {
   "cell_type": "markdown",
   "source": [
    "Q2. What  happens when an exception in python is not handled properly?Explain with an example?"
   ],
   "metadata": {
    "collapsed": false
   }
  },
  {
   "cell_type": "markdown",
   "source": [
    "When an exception is not handled properly then the interpreter raises the error and the program stops executing"
   ],
   "metadata": {
    "collapsed": false
   }
  },
  {
   "cell_type": "code",
   "execution_count": 2,
   "outputs": [
    {
     "ename": "ZeroDivisionError",
     "evalue": "division by zero",
     "output_type": "error",
     "traceback": [
      "\u001B[1;31m---------------------------------------------------------------------------\u001B[0m",
      "\u001B[1;31mZeroDivisionError\u001B[0m                         Traceback (most recent call last)",
      "\u001B[1;32m~\\AppData\\Local\\Temp\\ipykernel_10984\\3915576021.py\u001B[0m in \u001B[0;36m<module>\u001B[1;34m\u001B[0m\n\u001B[0;32m      1\u001B[0m \u001B[0ma\u001B[0m \u001B[1;33m=\u001B[0m \u001B[1;36m0\u001B[0m\u001B[1;33m\u001B[0m\u001B[1;33m\u001B[0m\u001B[0m\n\u001B[0;32m      2\u001B[0m \u001B[0mb\u001B[0m \u001B[1;33m=\u001B[0m \u001B[1;36m1\u001B[0m\u001B[1;33m\u001B[0m\u001B[1;33m\u001B[0m\u001B[0m\n\u001B[1;32m----> 3\u001B[1;33m \u001B[0mc\u001B[0m \u001B[1;33m=\u001B[0m \u001B[0mb\u001B[0m\u001B[1;33m/\u001B[0m\u001B[0ma\u001B[0m\u001B[1;33m\u001B[0m\u001B[1;33m\u001B[0m\u001B[0m\n\u001B[0m\u001B[0;32m      4\u001B[0m \u001B[0mprint\u001B[0m\u001B[1;33m(\u001B[0m\u001B[1;34m\"did program reached here\"\u001B[0m\u001B[1;33m)\u001B[0m\u001B[1;33m\u001B[0m\u001B[1;33m\u001B[0m\u001B[0m\n",
      "\u001B[1;31mZeroDivisionError\u001B[0m: division by zero"
     ]
    }
   ],
   "source": [
    "a = 0\n",
    "b = 1\n",
    "c = b/a\n",
    "print(\"did program reached here\")"
   ],
   "metadata": {
    "collapsed": false
   }
  },
  {
   "cell_type": "markdown",
   "source": [
    "Q3. Which Python statements are used to catch and handle exceptions? Explain with an example?"
   ],
   "metadata": {
    "collapsed": false
   }
  },
  {
   "cell_type": "markdown",
   "source": [
    "try and except statement are used to catch and handle exception"
   ],
   "metadata": {
    "collapsed": false
   }
  },
  {
   "cell_type": "code",
   "execution_count": 4,
   "outputs": [
    {
     "name": "stdout",
     "output_type": "stream",
     "text": [
      "ERROR division by zero\n",
      "DID PROGRAM REACHED HERE\n"
     ]
    }
   ],
   "source": [
    "a = 0\n",
    "b = 1\n",
    "try:\n",
    "    print(b/a)\n",
    "except Exception as e:\n",
    "    print('ERROR',e)\n",
    "print('DID PROGRAM REACHED HERE')"
   ],
   "metadata": {
    "collapsed": false
   }
  },
  {
   "cell_type": "markdown",
   "source": [
    "Q4. Explain with an example the following\n",
    "a. try and else\n",
    "b. except\n",
    "c. finally:"
   ],
   "metadata": {
    "collapsed": false
   }
  },
  {
   "cell_type": "markdown",
   "source": [
    "try and else: if try is successfully executed then the else will be successfully executed"
   ],
   "metadata": {
    "collapsed": false
   }
  },
  {
   "cell_type": "code",
   "execution_count": 7,
   "outputs": [
    {
     "name": "stdout",
     "output_type": "stream",
     "text": [
      "0\n",
      "Try was executed successfully\n",
      "FINALLY EXECUTES ALWAYS\n"
     ]
    }
   ],
   "source": [
    "#example try and else\n",
    "a =1\n",
    "b= 0\n",
    "try:\n",
    "    print(b//a)\n",
    "except Exception as e:\n",
    "    print(e)\n",
    "else:\n",
    "    print('Try was executed successfully')\n",
    "finally:\n",
    "    print('FINALLY EXECUTES ALWAYS')\n",
    "\n"
   ],
   "metadata": {
    "collapsed": false
   }
  },
  {
   "cell_type": "markdown",
   "source": [
    "except executes if try fails"
   ],
   "metadata": {
    "collapsed": false
   }
  },
  {
   "cell_type": "code",
   "execution_count": 11,
   "outputs": [
    {
     "name": "stdout",
     "output_type": "stream",
     "text": [
      "Try failed except excecuted successfully\n",
      " integer division or modulo by zero\n",
      "FINALLY EXECUTES ALWAYS\n"
     ]
    }
   ],
   "source": [
    "#example of except\n",
    "a =1\n",
    "b= 0\n",
    "try:\n",
    "    print(a//b)\n",
    "except Exception as e:\n",
    "    print('Try failed except excecuted successfully\\n',e)\n",
    "else:\n",
    "    print('Try was executed successfully')\n",
    "finally:\n",
    "    print('FINALLY EXECUTES ALWAYS')"
   ],
   "metadata": {
    "collapsed": false
   }
  },
  {
   "cell_type": "markdown",
   "source": [
    "Finally executes always"
   ],
   "metadata": {
    "collapsed": false
   }
  },
  {
   "cell_type": "markdown",
   "source": [
    "Q5. What are Custom Exceptions in python? Why do we need Custom Exceptions? Explain with an example."
   ],
   "metadata": {
    "collapsed": false
   }
  },
  {
   "cell_type": "markdown",
   "source": [
    "Custom Execptions are exception defined by users.\n",
    "We need Custom Exceptions for our diffenet programming needs for example checking input etc"
   ],
   "metadata": {
    "collapsed": false
   }
  },
  {
   "cell_type": "code",
   "execution_count": 16,
   "outputs": [
    {
     "name": "stdout",
     "output_type": "stream",
     "text": [
      "A is greater than 30 Execption\n"
     ]
    }
   ],
   "source": [
    "\n",
    "try:\n",
    "    A = int(input('Enter any number between 20 and 30'))\n",
    "    if A < 20:\n",
    "        raise Exception('A is less than 20')\n",
    "    elif A > 30:\n",
    "        raise Exception('A is greater than 30')\n",
    "except Exception as e:\n",
    "    print(e,'Execption')"
   ],
   "metadata": {
    "collapsed": false
   }
  },
  {
   "cell_type": "markdown",
   "source": [
    "\n",
    "Q6.Create a custom exception class. Use this class to handie an exception."
   ],
   "metadata": {
    "collapsed": false
   }
  },
  {
   "cell_type": "code",
   "execution_count": 24,
   "outputs": [],
   "source": [
    "class CustomException(Exception):\n",
    "    def __init__(self,msg):\n",
    "        pass\n",
    "\n"
   ],
   "metadata": {
    "collapsed": false
   }
  },
  {
   "cell_type": "code",
   "execution_count": 27,
   "outputs": [
    {
     "name": "stdout",
     "output_type": "stream",
     "text": [
      "a is negative Exception -789\n"
     ]
    }
   ],
   "source": [
    "a = int(input('Enter the price ?'))\n",
    "try:\n",
    "    if a<0:\n",
    "        raise CustomException('a is negative')\n",
    "    else:\n",
    "        print(f'Price is {a}')\n",
    "except CustomException as CE:\n",
    "    print(CE,'Exception',a)"
   ],
   "metadata": {
    "collapsed": false
   }
  },
  {
   "cell_type": "markdown",
   "source": [
    "By Riza Mohammad Khan"
   ],
   "metadata": {
    "collapsed": false
   }
  },
  {
   "cell_type": "code",
   "execution_count": null,
   "outputs": [],
   "source": [],
   "metadata": {
    "collapsed": false
   }
  }
 ],
 "metadata": {
  "kernelspec": {
   "display_name": "Python 3",
   "language": "python",
   "name": "python3"
  },
  "language_info": {
   "codemirror_mode": {
    "name": "ipython",
    "version": 2
   },
   "file_extension": ".py",
   "mimetype": "text/x-python",
   "name": "python",
   "nbconvert_exporter": "python",
   "pygments_lexer": "ipython2",
   "version": "2.7.6"
  }
 },
 "nbformat": 4,
 "nbformat_minor": 0
}
