{
 "cells": [
  {
   "cell_type": "markdown",
   "source": [],
   "metadata": {
    "collapsed": false
   }
  },
  {
   "cell_type": "markdown",
   "source": [
    "-----------\n",
    "# 05FEB\n",
    "----------"
   ],
   "metadata": {
    "collapsed": false
   }
  },
  {
   "cell_type": "markdown",
   "source": [
    "Q1. Explain Class and Object with respect to Object-Oriented Programming. Give a suitable example."
   ],
   "metadata": {
    "collapsed": false
   }
  },
  {
   "cell_type": "markdown",
   "source": [
    "CLASS AS THE NAME SUGGEST RELATES TO CLASSIFICATION\n",
    "WHILE OBJECT IS THE INSTANCE OF CLASS\n",
    "E.G BIRDS IS CLASS AND EAGLE IS OBJECT OF CLASS BIRD\n"
   ],
   "metadata": {
    "collapsed": false
   }
  },
  {
   "cell_type": "code",
   "execution_count": 1,
   "outputs": [],
   "source": [
    "class Birds:\n",
    "    def __init__(self,type,carnivore=bool):\n",
    "        self.type = type\n",
    "        self.carnivore = carnivore"
   ],
   "metadata": {
    "collapsed": false
   }
  },
  {
   "cell_type": "code",
   "execution_count": 3,
   "outputs": [],
   "source": [
    "eagle = Birds('high flyers',True)\n"
   ],
   "metadata": {
    "collapsed": false
   }
  },
  {
   "cell_type": "markdown",
   "source": [
    "Q2. Name the four pillars of OOPs."
   ],
   "metadata": {
    "collapsed": false
   }
  },
  {
   "cell_type": "markdown",
   "source": [
    "The four pillars of OOPs are:-\n",
    "- inheritance\n",
    "- abstraction\n",
    "- encapsulation\n",
    "- polymorphism"
   ],
   "metadata": {
    "collapsed": false
   }
  },
  {
   "cell_type": "markdown",
   "source": [],
   "metadata": {
    "collapsed": false
   }
  },
  {
   "cell_type": "markdown",
   "source": [
    "Q3. Explain why the __ init __() function is used. Give a suitable example."
   ],
   "metadata": {
    "collapsed": false
   }
  },
  {
   "cell_type": "markdown",
   "source": [
    "the word __ init__ is used to initialise the properties,method,etc when the object is created. In the below example the mammal class is created and when the object panda is created the __ init__ runs automatically"
   ],
   "metadata": {
    "collapsed": false
   }
  },
  {
   "cell_type": "code",
   "execution_count": 12,
   "outputs": [],
   "source": [
    "class Mammals:\n",
    "    def __init__(self,type,herbivore: bool):\n",
    "        self.type = type\n",
    "        self.herbivore = herbivore\n",
    "        print(f'{self.type} created')"
   ],
   "metadata": {
    "collapsed": false
   }
  },
  {
   "cell_type": "code",
   "execution_count": 13,
   "outputs": [
    {
     "name": "stdout",
     "output_type": "stream",
     "text": [
      "pandaa created\n"
     ]
    }
   ],
   "source": [
    "pandaa = Mammals('pandaa',True)"
   ],
   "metadata": {
    "collapsed": false
   }
  },
  {
   "cell_type": "markdown",
   "source": [
    "Q4. Why self is used in OOPs?"
   ],
   "metadata": {
    "collapsed": false
   }
  },
  {
   "cell_type": "markdown",
   "source": [
    "the word self is used in OOPs as it refers to the particular object. e.g"
   ],
   "metadata": {
    "collapsed": false
   }
  },
  {
   "cell_type": "code",
   "execution_count": 14,
   "outputs": [],
   "source": [
    "class Humans:\n",
    "    x=0\n",
    "    def walk(self,y: int):\n",
    "        print(f'Object is at {self.x}')\n",
    "        self.x += y\n",
    "        print(f'Object moved to {self.x}')\n"
   ],
   "metadata": {
    "collapsed": false
   }
  },
  {
   "cell_type": "code",
   "execution_count": 16,
   "outputs": [
    {
     "name": "stdout",
     "output_type": "stream",
     "text": [
      "Object is at 0\n",
      "Object moved to 7\n"
     ]
    }
   ],
   "source": [
    "riza = Humans()\n",
    "riza.walk(7)"
   ],
   "metadata": {
    "collapsed": false
   }
  },
  {
   "cell_type": "markdown",
   "source": [
    "here the word self refers to object and when the method walk is called riza is automatically passed as self"
   ],
   "metadata": {
    "collapsed": false
   }
  },
  {
   "cell_type": "markdown",
   "source": [
    "Q5. What is inheritance? Give an example for each type of inheritance."
   ],
   "metadata": {
    "collapsed": false
   }
  },
  {
   "cell_type": "markdown",
   "source": [
    "Inheritance as name suggest refers to inherit something in OOPs the term inheritance is used to inherit method,functions,attributes from parent class to child class.There are two types of inheritance multilevel and multiple"
   ],
   "metadata": {
    "collapsed": false
   }
  },
  {
   "cell_type": "code",
   "execution_count": 21,
   "outputs": [],
   "source": [
    "# example for multiple:\n",
    "class Mother:\n",
    "    def love(self):\n",
    "        print(\"Filled with Love\")\n",
    "class Father:\n",
    "    def care(self):\n",
    "        print('So much cared')\n",
    "class child(Mother,Father):\n",
    "    pass\n",
    "ahmad = child()"
   ],
   "metadata": {
    "collapsed": false
   }
  },
  {
   "cell_type": "code",
   "execution_count": 22,
   "outputs": [
    {
     "name": "stdout",
     "output_type": "stream",
     "text": [
      "Filled with Love\n"
     ]
    }
   ],
   "source": [
    "ahmad.love()"
   ],
   "metadata": {
    "collapsed": false
   }
  },
  {
   "cell_type": "code",
   "execution_count": 23,
   "outputs": [
    {
     "name": "stdout",
     "output_type": "stream",
     "text": [
      "So much cared\n"
     ]
    }
   ],
   "source": [
    "ahmad.care()"
   ],
   "metadata": {
    "collapsed": false
   }
  },
  {
   "cell_type": "code",
   "execution_count": 24,
   "outputs": [],
   "source": [
    "# example of multilevel\n",
    "class grandfather:\n",
    "    def walk(self):\n",
    "        print('Lets walk today')\n",
    "class father(grandfather):\n",
    "    def drive(self):\n",
    "        print('Lets Drive Today')\n",
    "class children(father):\n",
    "    def ride(self):\n",
    "        print('Lets ride today')"
   ],
   "metadata": {
    "collapsed": false
   }
  },
  {
   "cell_type": "code",
   "execution_count": 25,
   "outputs": [],
   "source": [
    "abbas = children()"
   ],
   "metadata": {
    "collapsed": false
   }
  },
  {
   "cell_type": "code",
   "execution_count": 26,
   "outputs": [
    {
     "name": "stdout",
     "output_type": "stream",
     "text": [
      "Lets walk today\n"
     ]
    }
   ],
   "source": [
    "abbas.walk()"
   ],
   "metadata": {
    "collapsed": false
   }
  },
  {
   "cell_type": "code",
   "execution_count": 27,
   "outputs": [
    {
     "name": "stdout",
     "output_type": "stream",
     "text": [
      "Lets Drive Today\n"
     ]
    }
   ],
   "source": [
    "abbas.drive()"
   ],
   "metadata": {
    "collapsed": false
   }
  },
  {
   "cell_type": "code",
   "execution_count": 28,
   "outputs": [
    {
     "name": "stdout",
     "output_type": "stream",
     "text": [
      "Lets ride today\n"
     ]
    }
   ],
   "source": [
    "abbas.ride()"
   ],
   "metadata": {
    "collapsed": false
   }
  },
  {
   "cell_type": "code",
   "execution_count": null,
   "outputs": [],
   "source": [],
   "metadata": {
    "collapsed": false
   }
  }
 ],
 "metadata": {
  "kernelspec": {
   "display_name": "Python 3",
   "language": "python",
   "name": "python3"
  },
  "language_info": {
   "codemirror_mode": {
    "name": "ipython",
    "version": 2
   },
   "file_extension": ".py",
   "mimetype": "text/x-python",
   "name": "python",
   "nbconvert_exporter": "python",
   "pygments_lexer": "ipython2",
   "version": "2.7.6"
  }
 },
 "nbformat": 4,
 "nbformat_minor": 0
}
